{
 "cells": [
  {
   "cell_type": "code",
   "execution_count": 1,
   "id": "8ac374ca",
   "metadata": {},
   "outputs": [
    {
     "data": {
      "text/html": [
       "<style>.container { width:90% !important; }</style>"
      ],
      "text/plain": [
       "<IPython.core.display.HTML object>"
      ]
     },
     "metadata": {},
     "output_type": "display_data"
    }
   ],
   "source": [
    "from IPython.display import display, HTML\n",
    "display(HTML(\"<style>.container { width:90% !important; }</style>\"))\n",
    "\n",
    "import pandas as pd\n",
    "pd.set_option('display.max_rows', 5000)\n",
    "pd.set_option('display.max_columns', 5000)\n",
    "\n",
    "import numpy as np\n",
    "\n",
    "\n",
    "from sklearn.preprocessing import StandardScaler, MinMaxScaler, MaxAbsScaler\n",
    "from sklearn.metrics import confusion_matrix, accuracy_score\n",
    "from sklearn.model_selection import train_test_split\n",
    "\n",
    "from sklearn.ensemble import RandomForestClassifier\n",
    "from sklearn.neighbors import KNeighborsClassifier\n",
    "from sklearn.model_selection import GridSearchCV\n",
    "\n",
    "\n",
    "\n"
   ]
  },
  {
   "cell_type": "code",
   "execution_count": 2,
   "id": "702ae0ff",
   "metadata": {},
   "outputs": [
    {
     "name": "stderr",
     "output_type": "stream",
     "text": [
      "/tmp/ipykernel_3741/3317488320.py:1: DtypeWarning: Columns (26,48) have mixed types. Specify dtype option on import or set low_memory=False.\n",
      "  data = pd.read_csv('final_wec_data.csv')\n"
     ]
    }
   ],
   "source": [
    "data = pd.read_csv('final_wec_data.csv')"
   ]
  },
  {
   "cell_type": "code",
   "execution_count": 3,
   "id": "2aa49517",
   "metadata": {},
   "outputs": [
    {
     "data": {
      "text/plain": [
       "Index(['Unnamed: 0', 'car_number', 'driver_number', 'lap_number', 'lap_time',\n",
       "       'lap_improvement', 'crossing_finish_line_in_pit', 's1',\n",
       "       's1_improvement', 's2', 's2_improvement', 's3', 's3_improvement',\n",
       "       'lap_avg_kph', 'elapsed', 'hour', 's1_large', 's2_large', 's3_large',\n",
       "       'lap_max_kph', 'driver_name', 'pit_time', 'class', 'group', 'team',\n",
       "       'manufacturer', 'season', 'year', 'circuit', 'round', 'vehicle',\n",
       "       'team_no', 'lap_time_ms', 'lap_time_s', 'engine', 'driver_stint_no',\n",
       "       'driver_stint', 'team_stint_no', 'team_stint', 'elapsed_ms', 'position',\n",
       "       'class_position', 'interval_ms', 'interval', 'gap', 'class_interval',\n",
       "       'class_gap', 'elapsed_s', 'rating', 'rolling_5l_avg'],\n",
       "      dtype='object')"
      ]
     },
     "execution_count": 3,
     "metadata": {},
     "output_type": "execute_result"
    }
   ],
   "source": [
    "data.columns"
   ]
  },
  {
   "cell_type": "code",
   "execution_count": 4,
   "id": "b0a2d91c",
   "metadata": {},
   "outputs": [],
   "source": [
    "# data = data.drop('Unnamed: 0', axis=1)\n",
    "# #  Dropping the extra index col\n",
    "\n",
    "# data = data[data['year'] >= 2017].reset_index(drop=True)\n",
    "# # # Dropping data from prior to 2017 as driver_ratings data was not available\n",
    "\n",
    "# data = data.drop(['lap_number', 'car_number', 'lap_number', 'driver_number', 'lap_time', 'elapsed', 'hour', 's1_large', 's2_large', 's3_large', 'driver_name', 'pit_time', 'group', 'team', 'manufacturer', 'season', 'vehicle', 'team_no','lap_time_ms', 'engine', 'driver_stint',\n",
    "#            'team_stint', 'team_stint_no', 'interval_ms', 'interval', 'elapsed_ms', 'position', 'gap', 'elapsed_s', ], axis=1)\n",
    "# # Initial columns dropped because not needed/not useable for modeling. Remaining columns will be further assessed "
   ]
  },
  {
   "cell_type": "code",
   "execution_count": null,
   "id": "92a4acc6",
   "metadata": {},
   "outputs": [],
   "source": []
  },
  {
   "cell_type": "code",
   "execution_count": 5,
   "id": "8ad4d8e6",
   "metadata": {},
   "outputs": [],
   "source": [
    "def df_for_ml(df):\n",
    "\n",
    "    df = df.drop('Unnamed: 0', axis=1)\n",
    "    df = data[data['year'] >= 2017].reset_index(drop=True)\n",
    "    # Dropping data from prior to 2017 as driver_ratings data was not available\n",
    "    df = df.drop(['lap_number', 'car_number', 'lap_number', 'driver_number', 'lap_time', 'elapsed', 'hour', 's1_large', 's2_large', 's3_large', 'driver_name', 'pit_time', 'group', 'team', 'manufacturer', 'season', 'vehicle', 'team_no','lap_time_ms', 'engine', 'driver_stint',\n",
    "           'team_stint', 'team_stint_no', 'interval_ms', 'interval', 'elapsed_ms', 'position', 'gap', 'elapsed_s'], axis=1)\n",
    "    # Initial columns dropped because not needed/not useable for modeling. Remaining columns will be further assessed \n",
    "    \n",
    "    return df\n",
    "\n",
    "\n"
   ]
  },
  {
   "cell_type": "code",
   "execution_count": 6,
   "id": "008707b6",
   "metadata": {},
   "outputs": [],
   "source": [
    "data = df_for_ml(data)"
   ]
  },
  {
   "cell_type": "code",
   "execution_count": null,
   "id": "0521279c",
   "metadata": {},
   "outputs": [],
   "source": []
  },
  {
   "cell_type": "code",
   "execution_count": 7,
   "id": "67a7022c",
   "metadata": {},
   "outputs": [
    {
     "data": {
      "text/plain": [
       "6.093703744098721"
      ]
     },
     "execution_count": 7,
     "metadata": {},
     "output_type": "execute_result"
    }
   ],
   "source": [
    "\n",
    "in_lap_check = data[data['crossing_finish_line_in_pit'] == 1]\n",
    "\n",
    "percent_in_lap_check = (in_lap_check.shape[0] / data.shape[0]) * 100\n",
    "percent_in_lap_check\n",
    "\n",
    "# Checking percentage of records that have 'crossing_finish_line_in_pit' == 1\n",
    "#These values can be dropped based on the low %"
   ]
  },
  {
   "cell_type": "code",
   "execution_count": 8,
   "id": "2d1d5abd",
   "metadata": {},
   "outputs": [
    {
     "data": {
      "text/plain": [
       "Unnamed: 0                      0.000000\n",
       "lap_improvement                 0.000000\n",
       "crossing_finish_line_in_pit     0.000000\n",
       "s1                              0.007790\n",
       "s1_improvement                  0.000000\n",
       "s2                              0.047522\n",
       "s2_improvement                  0.000000\n",
       "s3                              0.039731\n",
       "s3_improvement                  0.000000\n",
       "lap_avg_kph                     0.000000\n",
       "lap_max_kph                     0.249295\n",
       "class                           0.000000\n",
       "year                            0.000000\n",
       "circuit                         0.000000\n",
       "round                           0.000000\n",
       "lap_time_s                      0.000000\n",
       "driver_stint_no                 0.000000\n",
       "class_position                  0.000000\n",
       "class_interval                  0.000000\n",
       "class_gap                       0.000000\n",
       "rating                         12.800517\n",
       "rolling_5l_avg                  0.000000\n",
       "dtype: float64"
      ]
     },
     "execution_count": 8,
     "metadata": {},
     "output_type": "execute_result"
    }
   ],
   "source": [
    "data.isna().sum()/len(data)*100\n",
    "\n",
    "#small percentages of nan values can be safely dropped without significant effect. \n",
    "#12.68% of laps were run by a driver for which we have no rating info. These laps will be dropped"
   ]
  },
  {
   "cell_type": "code",
   "execution_count": 9,
   "id": "96e91649",
   "metadata": {},
   "outputs": [
    {
     "data": {
      "text/plain": [
       "array(['LMGTE Am', 'LMGTE Pro', 'LMP1', 'LMP2', 'HYPERCAR',\n",
       "       'INNOVATIVE CAR'], dtype=object)"
      ]
     },
     "execution_count": 9,
     "metadata": {},
     "output_type": "execute_result"
    }
   ],
   "source": [
    "data['class'].unique()"
   ]
  },
  {
   "cell_type": "code",
   "execution_count": 10,
   "id": "1f1dc530",
   "metadata": {},
   "outputs": [
    {
     "data": {
      "text/plain": [
       "array(['silverstone', 'spa', 'le mans', 'nurburgring', 'mexico', 'cota',\n",
       "       'fuji', 'shanghai', 'bahrain', 'sebring', 'portimao', 'monza'],\n",
       "      dtype=object)"
      ]
     },
     "execution_count": 10,
     "metadata": {},
     "output_type": "execute_result"
    }
   ],
   "source": [
    "data['circuit'].unique()"
   ]
  },
  {
   "cell_type": "code",
   "execution_count": 11,
   "id": "854a59dc",
   "metadata": {},
   "outputs": [],
   "source": [
    "def fixing_kept_cols(df):\n",
    "\n",
    "    df = df[df['class']!='INNOVATIVE CAR']\n",
    "#     removing the innovative class to eliminate outlier data\n",
    "    \n",
    "    df = df[df['crossing_finish_line_in_pit']==0]\n",
    "#     Filtering out rows where the lap ended in the pit lane (commonly known as an in-lap). \n",
    "# In theory this data could be useful for the model, under normal circumstances an in-lap would be run on old tires. A driver who can run a faster in-lap than their rivals\n",
    "# may be able to gain positions or time on a competitor and thus suggested a more skilled driver. However a car that has had an issue on track will have an abnormally slow in-lap as it limps back to the pitlane.\n",
    "# The in-lap data complicates the process of trimming outliers from the lap time data. Since only ~6% of records were in-laps we will simply drop these records\n",
    "    \n",
    "    df = df.dropna().reset_index(drop=True)\n",
    "#    Dropping any rows with missing values in remaining data\n",
    "\n",
    "    return df\n"
   ]
  },
  {
   "cell_type": "code",
   "execution_count": 12,
   "id": "1cf2790e",
   "metadata": {},
   "outputs": [],
   "source": [
    "data = fixing_kept_cols(data)"
   ]
  },
  {
   "cell_type": "code",
   "execution_count": null,
   "id": "09fd514d",
   "metadata": {},
   "outputs": [],
   "source": []
  },
  {
   "cell_type": "code",
   "execution_count": 13,
   "id": "33af7f45",
   "metadata": {},
   "outputs": [
    {
     "data": {
      "text/html": [
       "<div>\n",
       "<style scoped>\n",
       "    .dataframe tbody tr th:only-of-type {\n",
       "        vertical-align: middle;\n",
       "    }\n",
       "\n",
       "    .dataframe tbody tr th {\n",
       "        vertical-align: top;\n",
       "    }\n",
       "\n",
       "    .dataframe thead th {\n",
       "        text-align: right;\n",
       "    }\n",
       "</style>\n",
       "<table border=\"1\" class=\"dataframe\">\n",
       "  <thead>\n",
       "    <tr style=\"text-align: right;\">\n",
       "      <th></th>\n",
       "      <th>Unnamed: 0</th>\n",
       "      <th>lap_improvement</th>\n",
       "      <th>crossing_finish_line_in_pit</th>\n",
       "      <th>s1</th>\n",
       "      <th>s1_improvement</th>\n",
       "      <th>s2</th>\n",
       "      <th>s2_improvement</th>\n",
       "      <th>s3</th>\n",
       "      <th>s3_improvement</th>\n",
       "      <th>lap_avg_kph</th>\n",
       "      <th>lap_max_kph</th>\n",
       "      <th>class</th>\n",
       "      <th>year</th>\n",
       "      <th>circuit</th>\n",
       "      <th>round</th>\n",
       "      <th>lap_time_s</th>\n",
       "      <th>driver_stint_no</th>\n",
       "      <th>class_position</th>\n",
       "      <th>class_interval</th>\n",
       "      <th>class_gap</th>\n",
       "      <th>rating</th>\n",
       "      <th>rolling_5l_avg</th>\n",
       "    </tr>\n",
       "  </thead>\n",
       "  <tbody>\n",
       "    <tr>\n",
       "      <th>0</th>\n",
       "      <td>246956</td>\n",
       "      <td>0</td>\n",
       "      <td>0</td>\n",
       "      <td>41.322</td>\n",
       "      <td>0</td>\n",
       "      <td>51.911</td>\n",
       "      <td>0</td>\n",
       "      <td>33.424</td>\n",
       "      <td>0</td>\n",
       "      <td>167.7</td>\n",
       "      <td>242.7</td>\n",
       "      <td>LMGTE Am</td>\n",
       "      <td>2017</td>\n",
       "      <td>silverstone</td>\n",
       "      <td>1</td>\n",
       "      <td>126.657</td>\n",
       "      <td>1</td>\n",
       "      <td>1.0</td>\n",
       "      <td>0.000</td>\n",
       "      <td>0.000</td>\n",
       "      <td>S</td>\n",
       "      <td>126.6570</td>\n",
       "    </tr>\n",
       "    <tr>\n",
       "      <th>1</th>\n",
       "      <td>246957</td>\n",
       "      <td>0</td>\n",
       "      <td>0</td>\n",
       "      <td>41.504</td>\n",
       "      <td>0</td>\n",
       "      <td>52.321</td>\n",
       "      <td>0</td>\n",
       "      <td>33.244</td>\n",
       "      <td>0</td>\n",
       "      <td>167.2</td>\n",
       "      <td>249.4</td>\n",
       "      <td>LMGTE Am</td>\n",
       "      <td>2017</td>\n",
       "      <td>silverstone</td>\n",
       "      <td>1</td>\n",
       "      <td>127.069</td>\n",
       "      <td>1</td>\n",
       "      <td>2.0</td>\n",
       "      <td>0.412</td>\n",
       "      <td>0.412</td>\n",
       "      <td>P</td>\n",
       "      <td>124.8002</td>\n",
       "    </tr>\n",
       "    <tr>\n",
       "      <th>2</th>\n",
       "      <td>246958</td>\n",
       "      <td>0</td>\n",
       "      <td>0</td>\n",
       "      <td>42.036</td>\n",
       "      <td>0</td>\n",
       "      <td>52.346</td>\n",
       "      <td>0</td>\n",
       "      <td>33.114</td>\n",
       "      <td>0</td>\n",
       "      <td>166.6</td>\n",
       "      <td>246.0</td>\n",
       "      <td>LMGTE Am</td>\n",
       "      <td>2017</td>\n",
       "      <td>silverstone</td>\n",
       "      <td>1</td>\n",
       "      <td>127.496</td>\n",
       "      <td>1</td>\n",
       "      <td>3.0</td>\n",
       "      <td>0.427</td>\n",
       "      <td>0.839</td>\n",
       "      <td>S</td>\n",
       "      <td>135.6296</td>\n",
       "    </tr>\n",
       "    <tr>\n",
       "      <th>3</th>\n",
       "      <td>246959</td>\n",
       "      <td>0</td>\n",
       "      <td>0</td>\n",
       "      <td>42.815</td>\n",
       "      <td>0</td>\n",
       "      <td>52.290</td>\n",
       "      <td>0</td>\n",
       "      <td>32.766</td>\n",
       "      <td>0</td>\n",
       "      <td>166.1</td>\n",
       "      <td>248.3</td>\n",
       "      <td>LMGTE Am</td>\n",
       "      <td>2017</td>\n",
       "      <td>silverstone</td>\n",
       "      <td>1</td>\n",
       "      <td>127.871</td>\n",
       "      <td>1</td>\n",
       "      <td>4.0</td>\n",
       "      <td>0.375</td>\n",
       "      <td>1.214</td>\n",
       "      <td>G</td>\n",
       "      <td>125.1642</td>\n",
       "    </tr>\n",
       "    <tr>\n",
       "      <th>4</th>\n",
       "      <td>246960</td>\n",
       "      <td>0</td>\n",
       "      <td>0</td>\n",
       "      <td>42.827</td>\n",
       "      <td>0</td>\n",
       "      <td>54.325</td>\n",
       "      <td>0</td>\n",
       "      <td>34.207</td>\n",
       "      <td>0</td>\n",
       "      <td>161.7</td>\n",
       "      <td>242.7</td>\n",
       "      <td>LMGTE Am</td>\n",
       "      <td>2017</td>\n",
       "      <td>silverstone</td>\n",
       "      <td>1</td>\n",
       "      <td>131.359</td>\n",
       "      <td>1</td>\n",
       "      <td>5.0</td>\n",
       "      <td>3.488</td>\n",
       "      <td>4.702</td>\n",
       "      <td>B</td>\n",
       "      <td>124.4692</td>\n",
       "    </tr>\n",
       "  </tbody>\n",
       "</table>\n",
       "</div>"
      ],
      "text/plain": [
       "   Unnamed: 0  lap_improvement  crossing_finish_line_in_pit      s1  \\\n",
       "0      246956                0                            0  41.322   \n",
       "1      246957                0                            0  41.504   \n",
       "2      246958                0                            0  42.036   \n",
       "3      246959                0                            0  42.815   \n",
       "4      246960                0                            0  42.827   \n",
       "\n",
       "   s1_improvement      s2  s2_improvement      s3  s3_improvement  \\\n",
       "0               0  51.911               0  33.424               0   \n",
       "1               0  52.321               0  33.244               0   \n",
       "2               0  52.346               0  33.114               0   \n",
       "3               0  52.290               0  32.766               0   \n",
       "4               0  54.325               0  34.207               0   \n",
       "\n",
       "   lap_avg_kph  lap_max_kph     class  year      circuit  round  lap_time_s  \\\n",
       "0        167.7        242.7  LMGTE Am  2017  silverstone      1     126.657   \n",
       "1        167.2        249.4  LMGTE Am  2017  silverstone      1     127.069   \n",
       "2        166.6        246.0  LMGTE Am  2017  silverstone      1     127.496   \n",
       "3        166.1        248.3  LMGTE Am  2017  silverstone      1     127.871   \n",
       "4        161.7        242.7  LMGTE Am  2017  silverstone      1     131.359   \n",
       "\n",
       "   driver_stint_no  class_position  class_interval  class_gap rating  \\\n",
       "0                1             1.0           0.000      0.000      S   \n",
       "1                1             2.0           0.412      0.412      P   \n",
       "2                1             3.0           0.427      0.839      S   \n",
       "3                1             4.0           0.375      1.214      G   \n",
       "4                1             5.0           3.488      4.702      B   \n",
       "\n",
       "   rolling_5l_avg  \n",
       "0        126.6570  \n",
       "1        124.8002  \n",
       "2        135.6296  \n",
       "3        125.1642  \n",
       "4        124.4692  "
      ]
     },
     "execution_count": 13,
     "metadata": {},
     "output_type": "execute_result"
    }
   ],
   "source": [
    "data.head()"
   ]
  },
  {
   "cell_type": "code",
   "execution_count": 14,
   "id": "a44de13e",
   "metadata": {},
   "outputs": [
    {
     "data": {
      "text/plain": [
       "Unnamed: 0                       int64\n",
       "lap_improvement                  int64\n",
       "crossing_finish_line_in_pit      int64\n",
       "s1                             float64\n",
       "s1_improvement                   int64\n",
       "s2                             float64\n",
       "s2_improvement                   int64\n",
       "s3                             float64\n",
       "s3_improvement                   int64\n",
       "lap_avg_kph                    float64\n",
       "lap_max_kph                    float64\n",
       "class                           object\n",
       "year                             int64\n",
       "circuit                         object\n",
       "round                            int64\n",
       "lap_time_s                     float64\n",
       "driver_stint_no                  int64\n",
       "class_position                 float64\n",
       "class_interval                 float64\n",
       "class_gap                      float64\n",
       "rating                          object\n",
       "rolling_5l_avg                 float64\n",
       "dtype: object"
      ]
     },
     "execution_count": 14,
     "metadata": {},
     "output_type": "execute_result"
    }
   ],
   "source": [
    "data.dtypes"
   ]
  },
  {
   "cell_type": "code",
   "execution_count": 15,
   "id": "2af5d45d",
   "metadata": {},
   "outputs": [
    {
     "data": {
      "text/html": [
       "<div>\n",
       "<style scoped>\n",
       "    .dataframe tbody tr th:only-of-type {\n",
       "        vertical-align: middle;\n",
       "    }\n",
       "\n",
       "    .dataframe tbody tr th {\n",
       "        vertical-align: top;\n",
       "    }\n",
       "\n",
       "    .dataframe thead th {\n",
       "        text-align: right;\n",
       "    }\n",
       "</style>\n",
       "<table border=\"1\" class=\"dataframe\">\n",
       "  <thead>\n",
       "    <tr style=\"text-align: right;\">\n",
       "      <th></th>\n",
       "      <th>Unnamed: 0</th>\n",
       "      <th>lap_improvement</th>\n",
       "      <th>crossing_finish_line_in_pit</th>\n",
       "      <th>s1</th>\n",
       "      <th>s1_improvement</th>\n",
       "      <th>s2</th>\n",
       "      <th>s2_improvement</th>\n",
       "      <th>s3</th>\n",
       "      <th>s3_improvement</th>\n",
       "      <th>lap_avg_kph</th>\n",
       "      <th>lap_max_kph</th>\n",
       "      <th>year</th>\n",
       "      <th>round</th>\n",
       "      <th>lap_time_s</th>\n",
       "      <th>driver_stint_no</th>\n",
       "      <th>class_position</th>\n",
       "      <th>class_interval</th>\n",
       "      <th>class_gap</th>\n",
       "      <th>rolling_5l_avg</th>\n",
       "    </tr>\n",
       "  </thead>\n",
       "  <tbody>\n",
       "    <tr>\n",
       "      <th>count</th>\n",
       "      <td>209612.000000</td>\n",
       "      <td>209612.000000</td>\n",
       "      <td>209612.0</td>\n",
       "      <td>209612.000000</td>\n",
       "      <td>209612.000000</td>\n",
       "      <td>209612.000000</td>\n",
       "      <td>209612.000000</td>\n",
       "      <td>209612.000000</td>\n",
       "      <td>209612.000000</td>\n",
       "      <td>209612.000000</td>\n",
       "      <td>209612.000000</td>\n",
       "      <td>209612.000000</td>\n",
       "      <td>209612.000000</td>\n",
       "      <td>209612.000000</td>\n",
       "      <td>209612.000000</td>\n",
       "      <td>209612.000000</td>\n",
       "      <td>209612.000000</td>\n",
       "      <td>209612.000000</td>\n",
       "      <td>209612.000000</td>\n",
       "    </tr>\n",
       "    <tr>\n",
       "      <th>mean</th>\n",
       "      <td>371755.643594</td>\n",
       "      <td>0.010205</td>\n",
       "      <td>0.0</td>\n",
       "      <td>44.076848</td>\n",
       "      <td>0.017881</td>\n",
       "      <td>65.846589</td>\n",
       "      <td>0.018119</td>\n",
       "      <td>69.228965</td>\n",
       "      <td>0.019360</td>\n",
       "      <td>183.019491</td>\n",
       "      <td>272.510130</td>\n",
       "      <td>2019.224849</td>\n",
       "      <td>4.301619</td>\n",
       "      <td>179.271765</td>\n",
       "      <td>3.553437</td>\n",
       "      <td>6.320196</td>\n",
       "      <td>115.739313</td>\n",
       "      <td>394.965870</td>\n",
       "      <td>183.289629</td>\n",
       "    </tr>\n",
       "    <tr>\n",
       "      <th>std</th>\n",
       "      <td>74905.388276</td>\n",
       "      <td>0.144144</td>\n",
       "      <td>0.0</td>\n",
       "      <td>86.157872</td>\n",
       "      <td>0.165005</td>\n",
       "      <td>28.969278</td>\n",
       "      <td>0.166390</td>\n",
       "      <td>53.978820</td>\n",
       "      <td>0.172087</td>\n",
       "      <td>32.722641</td>\n",
       "      <td>48.526147</td>\n",
       "      <td>1.715857</td>\n",
       "      <td>2.324363</td>\n",
       "      <td>122.640220</td>\n",
       "      <td>2.987287</td>\n",
       "      <td>4.889323</td>\n",
       "      <td>654.140649</td>\n",
       "      <td>989.016427</td>\n",
       "      <td>106.663950</td>\n",
       "    </tr>\n",
       "    <tr>\n",
       "      <th>min</th>\n",
       "      <td>246956.000000</td>\n",
       "      <td>0.000000</td>\n",
       "      <td>0.0</td>\n",
       "      <td>18.809000</td>\n",
       "      <td>0.000000</td>\n",
       "      <td>25.517000</td>\n",
       "      <td>0.000000</td>\n",
       "      <td>18.052000</td>\n",
       "      <td>0.000000</td>\n",
       "      <td>3.100000</td>\n",
       "      <td>19.400000</td>\n",
       "      <td>2017.000000</td>\n",
       "      <td>1.000000</td>\n",
       "      <td>85.603000</td>\n",
       "      <td>0.000000</td>\n",
       "      <td>1.000000</td>\n",
       "      <td>0.000000</td>\n",
       "      <td>0.000000</td>\n",
       "      <td>86.116200</td>\n",
       "    </tr>\n",
       "    <tr>\n",
       "      <th>25%</th>\n",
       "      <td>306017.500000</td>\n",
       "      <td>0.000000</td>\n",
       "      <td>0.0</td>\n",
       "      <td>33.866000</td>\n",
       "      <td>0.000000</td>\n",
       "      <td>42.719750</td>\n",
       "      <td>0.000000</td>\n",
       "      <td>36.107000</td>\n",
       "      <td>0.000000</td>\n",
       "      <td>163.300000</td>\n",
       "      <td>255.900000</td>\n",
       "      <td>2018.000000</td>\n",
       "      <td>2.000000</td>\n",
       "      <td>116.553000</td>\n",
       "      <td>1.000000</td>\n",
       "      <td>3.000000</td>\n",
       "      <td>2.301000</td>\n",
       "      <td>15.298000</td>\n",
       "      <td>119.453800</td>\n",
       "    </tr>\n",
       "    <tr>\n",
       "      <th>50%</th>\n",
       "      <td>368087.500000</td>\n",
       "      <td>0.000000</td>\n",
       "      <td>0.0</td>\n",
       "      <td>36.572000</td>\n",
       "      <td>0.000000</td>\n",
       "      <td>61.464500</td>\n",
       "      <td>0.000000</td>\n",
       "      <td>46.778000</td>\n",
       "      <td>0.000000</td>\n",
       "      <td>180.600000</td>\n",
       "      <td>281.200000</td>\n",
       "      <td>2019.000000</td>\n",
       "      <td>4.000000</td>\n",
       "      <td>140.086500</td>\n",
       "      <td>2.000000</td>\n",
       "      <td>5.000000</td>\n",
       "      <td>16.541000</td>\n",
       "      <td>87.410000</td>\n",
       "      <td>148.140900</td>\n",
       "    </tr>\n",
       "    <tr>\n",
       "      <th>75%</th>\n",
       "      <td>433498.000000</td>\n",
       "      <td>0.000000</td>\n",
       "      <td>0.0</td>\n",
       "      <td>38.583000</td>\n",
       "      <td>0.000000</td>\n",
       "      <td>84.931250</td>\n",
       "      <td>0.000000</td>\n",
       "      <td>102.715750</td>\n",
       "      <td>0.000000</td>\n",
       "      <td>208.100000</td>\n",
       "      <td>298.000000</td>\n",
       "      <td>2021.000000</td>\n",
       "      <td>6.000000</td>\n",
       "      <td>232.456000</td>\n",
       "      <td>5.000000</td>\n",
       "      <td>9.000000</td>\n",
       "      <td>69.409250</td>\n",
       "      <td>349.165500</td>\n",
       "      <td>236.239900</td>\n",
       "    </tr>\n",
       "    <tr>\n",
       "      <th>max</th>\n",
       "      <td>503679.000000</td>\n",
       "      <td>3.000000</td>\n",
       "      <td>0.0</td>\n",
       "      <td>7255.675000</td>\n",
       "      <td>3.000000</td>\n",
       "      <td>634.217000</td>\n",
       "      <td>3.000000</td>\n",
       "      <td>3157.259000</td>\n",
       "      <td>3.000000</td>\n",
       "      <td>248.600000</td>\n",
       "      <td>350.100000</td>\n",
       "      <td>2022.000000</td>\n",
       "      <td>9.000000</td>\n",
       "      <td>9906.273000</td>\n",
       "      <td>19.000000</td>\n",
       "      <td>27.000000</td>\n",
       "      <td>21529.212000</td>\n",
       "      <td>24219.340000</td>\n",
       "      <td>9906.273000</td>\n",
       "    </tr>\n",
       "  </tbody>\n",
       "</table>\n",
       "</div>"
      ],
      "text/plain": [
       "          Unnamed: 0  lap_improvement  crossing_finish_line_in_pit  \\\n",
       "count  209612.000000    209612.000000                     209612.0   \n",
       "mean   371755.643594         0.010205                          0.0   \n",
       "std     74905.388276         0.144144                          0.0   \n",
       "min    246956.000000         0.000000                          0.0   \n",
       "25%    306017.500000         0.000000                          0.0   \n",
       "50%    368087.500000         0.000000                          0.0   \n",
       "75%    433498.000000         0.000000                          0.0   \n",
       "max    503679.000000         3.000000                          0.0   \n",
       "\n",
       "                  s1  s1_improvement             s2  s2_improvement  \\\n",
       "count  209612.000000   209612.000000  209612.000000   209612.000000   \n",
       "mean       44.076848        0.017881      65.846589        0.018119   \n",
       "std        86.157872        0.165005      28.969278        0.166390   \n",
       "min        18.809000        0.000000      25.517000        0.000000   \n",
       "25%        33.866000        0.000000      42.719750        0.000000   \n",
       "50%        36.572000        0.000000      61.464500        0.000000   \n",
       "75%        38.583000        0.000000      84.931250        0.000000   \n",
       "max      7255.675000        3.000000     634.217000        3.000000   \n",
       "\n",
       "                  s3  s3_improvement    lap_avg_kph    lap_max_kph  \\\n",
       "count  209612.000000   209612.000000  209612.000000  209612.000000   \n",
       "mean       69.228965        0.019360     183.019491     272.510130   \n",
       "std        53.978820        0.172087      32.722641      48.526147   \n",
       "min        18.052000        0.000000       3.100000      19.400000   \n",
       "25%        36.107000        0.000000     163.300000     255.900000   \n",
       "50%        46.778000        0.000000     180.600000     281.200000   \n",
       "75%       102.715750        0.000000     208.100000     298.000000   \n",
       "max      3157.259000        3.000000     248.600000     350.100000   \n",
       "\n",
       "                year          round     lap_time_s  driver_stint_no  \\\n",
       "count  209612.000000  209612.000000  209612.000000    209612.000000   \n",
       "mean     2019.224849       4.301619     179.271765         3.553437   \n",
       "std         1.715857       2.324363     122.640220         2.987287   \n",
       "min      2017.000000       1.000000      85.603000         0.000000   \n",
       "25%      2018.000000       2.000000     116.553000         1.000000   \n",
       "50%      2019.000000       4.000000     140.086500         2.000000   \n",
       "75%      2021.000000       6.000000     232.456000         5.000000   \n",
       "max      2022.000000       9.000000    9906.273000        19.000000   \n",
       "\n",
       "       class_position  class_interval      class_gap  rolling_5l_avg  \n",
       "count   209612.000000   209612.000000  209612.000000   209612.000000  \n",
       "mean         6.320196      115.739313     394.965870      183.289629  \n",
       "std          4.889323      654.140649     989.016427      106.663950  \n",
       "min          1.000000        0.000000       0.000000       86.116200  \n",
       "25%          3.000000        2.301000      15.298000      119.453800  \n",
       "50%          5.000000       16.541000      87.410000      148.140900  \n",
       "75%          9.000000       69.409250     349.165500      236.239900  \n",
       "max         27.000000    21529.212000   24219.340000     9906.273000  "
      ]
     },
     "execution_count": 15,
     "metadata": {},
     "output_type": "execute_result"
    }
   ],
   "source": [
    "data.describe()"
   ]
  },
  {
   "cell_type": "code",
   "execution_count": 16,
   "id": "6b3e699e",
   "metadata": {},
   "outputs": [
    {
     "name": "stdout",
     "output_type": "stream",
     "text": [
      "<class 'pandas.core.frame.DataFrame'>\n",
      "RangeIndex: 209612 entries, 0 to 209611\n",
      "Data columns (total 22 columns):\n",
      " #   Column                       Non-Null Count   Dtype  \n",
      "---  ------                       --------------   -----  \n",
      " 0   Unnamed: 0                   209612 non-null  int64  \n",
      " 1   lap_improvement              209612 non-null  int64  \n",
      " 2   crossing_finish_line_in_pit  209612 non-null  int64  \n",
      " 3   s1                           209612 non-null  float64\n",
      " 4   s1_improvement               209612 non-null  int64  \n",
      " 5   s2                           209612 non-null  float64\n",
      " 6   s2_improvement               209612 non-null  int64  \n",
      " 7   s3                           209612 non-null  float64\n",
      " 8   s3_improvement               209612 non-null  int64  \n",
      " 9   lap_avg_kph                  209612 non-null  float64\n",
      " 10  lap_max_kph                  209612 non-null  float64\n",
      " 11  class                        209612 non-null  object \n",
      " 12  year                         209612 non-null  int64  \n",
      " 13  circuit                      209612 non-null  object \n",
      " 14  round                        209612 non-null  int64  \n",
      " 15  lap_time_s                   209612 non-null  float64\n",
      " 16  driver_stint_no              209612 non-null  int64  \n",
      " 17  class_position               209612 non-null  float64\n",
      " 18  class_interval               209612 non-null  float64\n",
      " 19  class_gap                    209612 non-null  float64\n",
      " 20  rating                       209612 non-null  object \n",
      " 21  rolling_5l_avg               209612 non-null  float64\n",
      "dtypes: float64(10), int64(9), object(3)\n",
      "memory usage: 35.2+ MB\n"
     ]
    }
   ],
   "source": [
    "data.info()"
   ]
  },
  {
   "cell_type": "code",
   "execution_count": 17,
   "id": "ada26c2e",
   "metadata": {},
   "outputs": [
    {
     "data": {
      "text/plain": [
       "P    95850\n",
       "G    44561\n",
       "S    40878\n",
       "B    28323\n",
       "Name: rating, dtype: int64"
      ]
     },
     "execution_count": 17,
     "metadata": {},
     "output_type": "execute_result"
    }
   ],
   "source": [
    "data['rating'].value_counts()"
   ]
  },
  {
   "cell_type": "code",
   "execution_count": null,
   "id": "32f8400a",
   "metadata": {},
   "outputs": [],
   "source": []
  },
  {
   "cell_type": "code",
   "execution_count": 18,
   "id": "ce717d5a",
   "metadata": {},
   "outputs": [
    {
     "data": {
      "text/plain": [
       "Unnamed: 0                      334782\n",
       "lap_improvement                      3\n",
       "crossing_finish_line_in_pit          0\n",
       "s1                              19.341\n",
       "s1_improvement                       0\n",
       "s2                               25.58\n",
       "s2_improvement                       0\n",
       "s3                              40.682\n",
       "s3_improvement                       0\n",
       "lap_avg_kph                      191.9\n",
       "lap_max_kph                      257.1\n",
       "class                             LMP1\n",
       "year                              2018\n",
       "circuit                           fuji\n",
       "round                                4\n",
       "lap_time_s                      85.603\n",
       "driver_stint_no                      1\n",
       "class_position                     1.0\n",
       "class_interval                     0.0\n",
       "class_gap                          0.0\n",
       "rating                               P\n",
       "rolling_5l_avg                 86.8282\n",
       "Name: 76352, dtype: object"
      ]
     },
     "execution_count": 18,
     "metadata": {},
     "output_type": "execute_result"
    }
   ],
   "source": [
    "shortest_lap = data.loc[data['lap_time_s'].idxmin()]\n",
    "shortest_lap\n",
    "#Checking the record for the fastest lap time in our data. If the fastest lap was an errant value further trimming and cleaning of the data would be needed.\n",
    "# 85.603 seconds or 01:25.603 is a real lap time at Fuji, it is assumed based on this that no false data exists at the bottom end of the spectrum\n"
   ]
  },
  {
   "cell_type": "code",
   "execution_count": null,
   "id": "f16c8cf5",
   "metadata": {},
   "outputs": [],
   "source": []
  },
  {
   "cell_type": "code",
   "execution_count": 19,
   "id": "32c33d25",
   "metadata": {},
   "outputs": [
    {
     "data": {
      "text/plain": [
       "209612"
      ]
     },
     "execution_count": 19,
     "metadata": {},
     "output_type": "execute_result"
    }
   ],
   "source": [
    "len(data)"
   ]
  },
  {
   "cell_type": "code",
   "execution_count": 20,
   "id": "933286bb",
   "metadata": {},
   "outputs": [],
   "source": [
    "\n",
    "def trim_outliers(df):\n",
    "    grouped = df.groupby(['class', 'circuit'])\n",
    "    for key, group in grouped:\n",
    "        IQR = np.percentile(group['lap_time_s'], 75) - np.percentile(group['lap_time_s'], 25)\n",
    "        u_limit = np.percentile(group['lap_time_s'], 75) + 1*IQR\n",
    "#         l_limit = np.percentile(group['lap_time_s'], 25) - 1.5*IQR\n",
    "#         print(key, 'IQR: ', IQR, 'u_lim: ', u_limit, 'l_lim: ', l_limit)\n",
    "        group = group[group['lap_time_s'] < u_limit]\n",
    "        if 'new_df' in locals():\n",
    "            new_df = pd.concat([new_df, group])\n",
    "        else:\n",
    "            new_df = group.reset_index(drop=True)\n",
    "        \n",
    "    return new_df\n",
    "\n",
    "# Common practice is to remove records based on both the upper and lower limits. Given the type of data we're dealing with it makes sense to only trim upper-limit outliers\n",
    "# This will remove laps where a car crashed, broke down, or was otherwise delayed on track. This will also serve to remove laps run under slowzones, FCY, or Safety car procedures since we do not have data to indicate those situations.\n",
    "#The removed print statement would show the IQR and limit values for each circuit/class pairing for checking"
   ]
  },
  {
   "cell_type": "code",
   "execution_count": 21,
   "id": "03c682cc",
   "metadata": {},
   "outputs": [
    {
     "data": {
      "text/plain": [
       "176248"
      ]
     },
     "execution_count": 21,
     "metadata": {},
     "output_type": "execute_result"
    }
   ],
   "source": [
    "data = trim_outliers(data)\n",
    "len(data)"
   ]
  },
  {
   "cell_type": "code",
   "execution_count": 22,
   "id": "8d98d28b",
   "metadata": {},
   "outputs": [
    {
     "data": {
      "text/plain": [
       "Unnamed: 0                       412804\n",
       "lap_improvement                       0\n",
       "crossing_finish_line_in_pit           0\n",
       "s1                               42.229\n",
       "s1_improvement                        0\n",
       "s2                               99.308\n",
       "s2_improvement                        0\n",
       "s3                              119.478\n",
       "s3_improvement                        0\n",
       "lap_avg_kph                       187.9\n",
       "lap_max_kph                       286.9\n",
       "class                          LMGTE Am\n",
       "year                               2020\n",
       "circuit                         le mans\n",
       "round                                 7\n",
       "lap_time_s                      261.015\n",
       "driver_stint_no                       4\n",
       "class_position                     13.0\n",
       "class_interval                   35.735\n",
       "class_gap                      1404.954\n",
       "rating                                B\n",
       "rolling_5l_avg                 267.3292\n",
       "Name: 139979, dtype: object"
      ]
     },
     "execution_count": 22,
     "metadata": {},
     "output_type": "execute_result"
    }
   ],
   "source": [
    "longtest_lap = data.loc[data['lap_time_s'].idxmax()]\n",
    "longtest_lap\n",
    "# Checking the longest lap remaining after the outliers are trimmed to find an optimal value for the upper limit without removing too many valid laps.\n",
    "# 261 seconds or a laptime of 4:35.000 for a GTE at Le Mans is a slow lap but not one that indicates an artificial delay (such as a significant accident)."
   ]
  },
  {
   "cell_type": "code",
   "execution_count": null,
   "id": "cea39a07",
   "metadata": {},
   "outputs": [],
   "source": []
  },
  {
   "cell_type": "code",
   "execution_count": 23,
   "id": "79ab7bf6",
   "metadata": {},
   "outputs": [],
   "source": [
    "# obs = data.select_dtypes(object).drop('rating', axis=1)\n",
    "\n",
    "# class_one_hot = pd.get_dummies(obs['class'], prefix='class')\n",
    "\n",
    "# circuit_one_hot = pd.get_dummies(obs['circuit'], prefix='circuit')\n",
    "\n",
    "# ob_feats = pd.concat([class_one_hot, circuit_one_hot], axis=1)\n",
    "\n",
    "# ob_feats"
   ]
  },
  {
   "cell_type": "code",
   "execution_count": 24,
   "id": "bc8c1173",
   "metadata": {},
   "outputs": [],
   "source": [
    "# cont_nums = data.select_dtypes('number')\n",
    "# cont_nums = cont_nums.drop(['lap_improvement', 'crossing_finish_line_in_pit', 's1_improvement', 's2_improvement', 's3_improvement', 'year', 'round', 'driver_stint_no', 'class_position'], axis=1)\n",
    "\n",
    "# disc_nums = data[['lap_improvement', 'crossing_finish_line_in_pit', 's1_improvement', 's2_improvement', 's3_improvement', 'year', 'round', 'driver_stint_no', 'class_position']]\n",
    "# disc_nums"
   ]
  },
  {
   "cell_type": "code",
   "execution_count": null,
   "id": "f7d3ca3c",
   "metadata": {},
   "outputs": [],
   "source": []
  },
  {
   "cell_type": "code",
   "execution_count": 25,
   "id": "70e162b9",
   "metadata": {},
   "outputs": [],
   "source": [
    "def separate_df(df):\n",
    "    cont_nums = df.select_dtypes('number')\n",
    "    cont_nums = cont_nums.drop(['lap_improvement', 'crossing_finish_line_in_pit', 's1_improvement', 's2_improvement', 's3_improvement', 'year', 'round', 'driver_stint_no', 'class_position'], axis=1)\n",
    "    \n",
    "    disc_nums = df[['lap_improvement', 'crossing_finish_line_in_pit', 's1_improvement', 's2_improvement', 's3_improvement', 'year', 'round', 'driver_stint_no', 'class_position']]\n",
    "    \n",
    "    obs = data.select_dtypes(object).drop('rating', axis=1)\n",
    "\n",
    "    target = df['rating']\n",
    "    \n",
    "    return cont_nums, disc_nums, obs, target\n",
    "\n",
    "# Splitting the dataframe for encoding and scaling operations"
   ]
  },
  {
   "cell_type": "code",
   "execution_count": 26,
   "id": "8ca48b3c",
   "metadata": {},
   "outputs": [],
   "source": [
    "cont_nums, disc_nums, obs, target = separate_df(data)"
   ]
  },
  {
   "cell_type": "code",
   "execution_count": 27,
   "id": "32b60534",
   "metadata": {},
   "outputs": [
    {
     "data": {
      "text/html": [
       "<div>\n",
       "<style scoped>\n",
       "    .dataframe tbody tr th:only-of-type {\n",
       "        vertical-align: middle;\n",
       "    }\n",
       "\n",
       "    .dataframe tbody tr th {\n",
       "        vertical-align: top;\n",
       "    }\n",
       "\n",
       "    .dataframe thead th {\n",
       "        text-align: right;\n",
       "    }\n",
       "</style>\n",
       "<table border=\"1\" class=\"dataframe\">\n",
       "  <thead>\n",
       "    <tr style=\"text-align: right;\">\n",
       "      <th></th>\n",
       "      <th>class</th>\n",
       "      <th>circuit</th>\n",
       "    </tr>\n",
       "  </thead>\n",
       "  <tbody>\n",
       "    <tr>\n",
       "      <th>0</th>\n",
       "      <td>HYPERCAR</td>\n",
       "      <td>bahrain</td>\n",
       "    </tr>\n",
       "    <tr>\n",
       "      <th>1</th>\n",
       "      <td>HYPERCAR</td>\n",
       "      <td>bahrain</td>\n",
       "    </tr>\n",
       "    <tr>\n",
       "      <th>2</th>\n",
       "      <td>HYPERCAR</td>\n",
       "      <td>bahrain</td>\n",
       "    </tr>\n",
       "    <tr>\n",
       "      <th>3</th>\n",
       "      <td>HYPERCAR</td>\n",
       "      <td>bahrain</td>\n",
       "    </tr>\n",
       "    <tr>\n",
       "      <th>4</th>\n",
       "      <td>HYPERCAR</td>\n",
       "      <td>bahrain</td>\n",
       "    </tr>\n",
       "    <tr>\n",
       "      <th>...</th>\n",
       "      <td>...</td>\n",
       "      <td>...</td>\n",
       "    </tr>\n",
       "    <tr>\n",
       "      <th>191869</th>\n",
       "      <td>LMP2</td>\n",
       "      <td>spa</td>\n",
       "    </tr>\n",
       "    <tr>\n",
       "      <th>191872</th>\n",
       "      <td>LMP2</td>\n",
       "      <td>spa</td>\n",
       "    </tr>\n",
       "    <tr>\n",
       "      <th>191873</th>\n",
       "      <td>LMP2</td>\n",
       "      <td>spa</td>\n",
       "    </tr>\n",
       "    <tr>\n",
       "      <th>191874</th>\n",
       "      <td>LMP2</td>\n",
       "      <td>spa</td>\n",
       "    </tr>\n",
       "    <tr>\n",
       "      <th>191875</th>\n",
       "      <td>LMP2</td>\n",
       "      <td>spa</td>\n",
       "    </tr>\n",
       "  </tbody>\n",
       "</table>\n",
       "<p>176248 rows × 2 columns</p>\n",
       "</div>"
      ],
      "text/plain": [
       "           class  circuit\n",
       "0       HYPERCAR  bahrain\n",
       "1       HYPERCAR  bahrain\n",
       "2       HYPERCAR  bahrain\n",
       "3       HYPERCAR  bahrain\n",
       "4       HYPERCAR  bahrain\n",
       "...          ...      ...\n",
       "191869      LMP2      spa\n",
       "191872      LMP2      spa\n",
       "191873      LMP2      spa\n",
       "191874      LMP2      spa\n",
       "191875      LMP2      spa\n",
       "\n",
       "[176248 rows x 2 columns]"
      ]
     },
     "execution_count": 27,
     "metadata": {},
     "output_type": "execute_result"
    }
   ],
   "source": [
    "obs"
   ]
  },
  {
   "cell_type": "code",
   "execution_count": 28,
   "id": "e290239f",
   "metadata": {},
   "outputs": [],
   "source": [
    "def encode_obs(obs):\n",
    "    class_one_hot = pd.get_dummies(obs['class'], prefix='class')\n",
    "    circuit_one_hot = pd.get_dummies(obs['circuit'], prefix='circuit')\n",
    "    \n",
    "    ob_feats = pd.concat([class_one_hot, circuit_one_hot], axis=1)\n",
    "    \n",
    "    return ob_feats\n",
    "# Encoding the object features for model use"
   ]
  },
  {
   "cell_type": "code",
   "execution_count": 29,
   "id": "fc2b16a7",
   "metadata": {},
   "outputs": [],
   "source": [
    "ob_feats = encode_obs(obs)"
   ]
  },
  {
   "cell_type": "code",
   "execution_count": 30,
   "id": "f73bf5c6",
   "metadata": {},
   "outputs": [
    {
     "data": {
      "text/html": [
       "<div>\n",
       "<style scoped>\n",
       "    .dataframe tbody tr th:only-of-type {\n",
       "        vertical-align: middle;\n",
       "    }\n",
       "\n",
       "    .dataframe tbody tr th {\n",
       "        vertical-align: top;\n",
       "    }\n",
       "\n",
       "    .dataframe thead th {\n",
       "        text-align: right;\n",
       "    }\n",
       "</style>\n",
       "<table border=\"1\" class=\"dataframe\">\n",
       "  <thead>\n",
       "    <tr style=\"text-align: right;\">\n",
       "      <th></th>\n",
       "      <th>class_HYPERCAR</th>\n",
       "      <th>class_LMGTE Am</th>\n",
       "      <th>class_LMGTE Pro</th>\n",
       "      <th>class_LMP1</th>\n",
       "      <th>class_LMP2</th>\n",
       "      <th>circuit_bahrain</th>\n",
       "      <th>circuit_cota</th>\n",
       "      <th>circuit_fuji</th>\n",
       "      <th>circuit_le mans</th>\n",
       "      <th>circuit_mexico</th>\n",
       "      <th>circuit_monza</th>\n",
       "      <th>circuit_nurburgring</th>\n",
       "      <th>circuit_portimao</th>\n",
       "      <th>circuit_sebring</th>\n",
       "      <th>circuit_shanghai</th>\n",
       "      <th>circuit_silverstone</th>\n",
       "      <th>circuit_spa</th>\n",
       "    </tr>\n",
       "  </thead>\n",
       "  <tbody>\n",
       "    <tr>\n",
       "      <th>0</th>\n",
       "      <td>1</td>\n",
       "      <td>0</td>\n",
       "      <td>0</td>\n",
       "      <td>0</td>\n",
       "      <td>0</td>\n",
       "      <td>1</td>\n",
       "      <td>0</td>\n",
       "      <td>0</td>\n",
       "      <td>0</td>\n",
       "      <td>0</td>\n",
       "      <td>0</td>\n",
       "      <td>0</td>\n",
       "      <td>0</td>\n",
       "      <td>0</td>\n",
       "      <td>0</td>\n",
       "      <td>0</td>\n",
       "      <td>0</td>\n",
       "    </tr>\n",
       "    <tr>\n",
       "      <th>1</th>\n",
       "      <td>1</td>\n",
       "      <td>0</td>\n",
       "      <td>0</td>\n",
       "      <td>0</td>\n",
       "      <td>0</td>\n",
       "      <td>1</td>\n",
       "      <td>0</td>\n",
       "      <td>0</td>\n",
       "      <td>0</td>\n",
       "      <td>0</td>\n",
       "      <td>0</td>\n",
       "      <td>0</td>\n",
       "      <td>0</td>\n",
       "      <td>0</td>\n",
       "      <td>0</td>\n",
       "      <td>0</td>\n",
       "      <td>0</td>\n",
       "    </tr>\n",
       "    <tr>\n",
       "      <th>2</th>\n",
       "      <td>1</td>\n",
       "      <td>0</td>\n",
       "      <td>0</td>\n",
       "      <td>0</td>\n",
       "      <td>0</td>\n",
       "      <td>1</td>\n",
       "      <td>0</td>\n",
       "      <td>0</td>\n",
       "      <td>0</td>\n",
       "      <td>0</td>\n",
       "      <td>0</td>\n",
       "      <td>0</td>\n",
       "      <td>0</td>\n",
       "      <td>0</td>\n",
       "      <td>0</td>\n",
       "      <td>0</td>\n",
       "      <td>0</td>\n",
       "    </tr>\n",
       "    <tr>\n",
       "      <th>3</th>\n",
       "      <td>1</td>\n",
       "      <td>0</td>\n",
       "      <td>0</td>\n",
       "      <td>0</td>\n",
       "      <td>0</td>\n",
       "      <td>1</td>\n",
       "      <td>0</td>\n",
       "      <td>0</td>\n",
       "      <td>0</td>\n",
       "      <td>0</td>\n",
       "      <td>0</td>\n",
       "      <td>0</td>\n",
       "      <td>0</td>\n",
       "      <td>0</td>\n",
       "      <td>0</td>\n",
       "      <td>0</td>\n",
       "      <td>0</td>\n",
       "    </tr>\n",
       "    <tr>\n",
       "      <th>4</th>\n",
       "      <td>1</td>\n",
       "      <td>0</td>\n",
       "      <td>0</td>\n",
       "      <td>0</td>\n",
       "      <td>0</td>\n",
       "      <td>1</td>\n",
       "      <td>0</td>\n",
       "      <td>0</td>\n",
       "      <td>0</td>\n",
       "      <td>0</td>\n",
       "      <td>0</td>\n",
       "      <td>0</td>\n",
       "      <td>0</td>\n",
       "      <td>0</td>\n",
       "      <td>0</td>\n",
       "      <td>0</td>\n",
       "      <td>0</td>\n",
       "    </tr>\n",
       "  </tbody>\n",
       "</table>\n",
       "</div>"
      ],
      "text/plain": [
       "   class_HYPERCAR  class_LMGTE Am  class_LMGTE Pro  class_LMP1  class_LMP2  \\\n",
       "0               1               0                0           0           0   \n",
       "1               1               0                0           0           0   \n",
       "2               1               0                0           0           0   \n",
       "3               1               0                0           0           0   \n",
       "4               1               0                0           0           0   \n",
       "\n",
       "   circuit_bahrain  circuit_cota  circuit_fuji  circuit_le mans  \\\n",
       "0                1             0             0                0   \n",
       "1                1             0             0                0   \n",
       "2                1             0             0                0   \n",
       "3                1             0             0                0   \n",
       "4                1             0             0                0   \n",
       "\n",
       "   circuit_mexico  circuit_monza  circuit_nurburgring  circuit_portimao  \\\n",
       "0               0              0                    0                 0   \n",
       "1               0              0                    0                 0   \n",
       "2               0              0                    0                 0   \n",
       "3               0              0                    0                 0   \n",
       "4               0              0                    0                 0   \n",
       "\n",
       "   circuit_sebring  circuit_shanghai  circuit_silverstone  circuit_spa  \n",
       "0                0                 0                    0            0  \n",
       "1                0                 0                    0            0  \n",
       "2                0                 0                    0            0  \n",
       "3                0                 0                    0            0  \n",
       "4                0                 0                    0            0  "
      ]
     },
     "execution_count": 30,
     "metadata": {},
     "output_type": "execute_result"
    }
   ],
   "source": [
    "ob_feats.head()"
   ]
  },
  {
   "cell_type": "code",
   "execution_count": 31,
   "id": "804b0e10",
   "metadata": {},
   "outputs": [
    {
     "data": {
      "text/html": [
       "<div>\n",
       "<style scoped>\n",
       "    .dataframe tbody tr th:only-of-type {\n",
       "        vertical-align: middle;\n",
       "    }\n",
       "\n",
       "    .dataframe tbody tr th {\n",
       "        vertical-align: top;\n",
       "    }\n",
       "\n",
       "    .dataframe thead th {\n",
       "        text-align: right;\n",
       "    }\n",
       "</style>\n",
       "<table border=\"1\" class=\"dataframe\">\n",
       "  <thead>\n",
       "    <tr style=\"text-align: right;\">\n",
       "      <th></th>\n",
       "      <th>lap_improvement</th>\n",
       "      <th>crossing_finish_line_in_pit</th>\n",
       "      <th>s1_improvement</th>\n",
       "      <th>s2_improvement</th>\n",
       "      <th>s3_improvement</th>\n",
       "      <th>year</th>\n",
       "      <th>round</th>\n",
       "      <th>driver_stint_no</th>\n",
       "      <th>class_position</th>\n",
       "    </tr>\n",
       "  </thead>\n",
       "  <tbody>\n",
       "    <tr>\n",
       "      <th>0</th>\n",
       "      <td>3</td>\n",
       "      <td>0</td>\n",
       "      <td>2</td>\n",
       "      <td>2</td>\n",
       "      <td>0</td>\n",
       "      <td>2021</td>\n",
       "      <td>5</td>\n",
       "      <td>1</td>\n",
       "      <td>1.0</td>\n",
       "    </tr>\n",
       "    <tr>\n",
       "      <th>1</th>\n",
       "      <td>2</td>\n",
       "      <td>0</td>\n",
       "      <td>0</td>\n",
       "      <td>3</td>\n",
       "      <td>0</td>\n",
       "      <td>2021</td>\n",
       "      <td>5</td>\n",
       "      <td>1</td>\n",
       "      <td>2.0</td>\n",
       "    </tr>\n",
       "    <tr>\n",
       "      <th>2</th>\n",
       "      <td>2</td>\n",
       "      <td>0</td>\n",
       "      <td>2</td>\n",
       "      <td>0</td>\n",
       "      <td>3</td>\n",
       "      <td>2021</td>\n",
       "      <td>5</td>\n",
       "      <td>1</td>\n",
       "      <td>3.0</td>\n",
       "    </tr>\n",
       "    <tr>\n",
       "      <th>3</th>\n",
       "      <td>0</td>\n",
       "      <td>0</td>\n",
       "      <td>0</td>\n",
       "      <td>0</td>\n",
       "      <td>0</td>\n",
       "      <td>2021</td>\n",
       "      <td>5</td>\n",
       "      <td>1</td>\n",
       "      <td>1.0</td>\n",
       "    </tr>\n",
       "    <tr>\n",
       "      <th>4</th>\n",
       "      <td>0</td>\n",
       "      <td>0</td>\n",
       "      <td>3</td>\n",
       "      <td>0</td>\n",
       "      <td>0</td>\n",
       "      <td>2021</td>\n",
       "      <td>5</td>\n",
       "      <td>1</td>\n",
       "      <td>2.0</td>\n",
       "    </tr>\n",
       "  </tbody>\n",
       "</table>\n",
       "</div>"
      ],
      "text/plain": [
       "   lap_improvement  crossing_finish_line_in_pit  s1_improvement  \\\n",
       "0                3                            0               2   \n",
       "1                2                            0               0   \n",
       "2                2                            0               2   \n",
       "3                0                            0               0   \n",
       "4                0                            0               3   \n",
       "\n",
       "   s2_improvement  s3_improvement  year  round  driver_stint_no  \\\n",
       "0               2               0  2021      5                1   \n",
       "1               3               0  2021      5                1   \n",
       "2               0               3  2021      5                1   \n",
       "3               0               0  2021      5                1   \n",
       "4               0               0  2021      5                1   \n",
       "\n",
       "   class_position  \n",
       "0             1.0  \n",
       "1             2.0  \n",
       "2             3.0  \n",
       "3             1.0  \n",
       "4             2.0  "
      ]
     },
     "execution_count": 31,
     "metadata": {},
     "output_type": "execute_result"
    }
   ],
   "source": [
    "disc_nums.head()"
   ]
  },
  {
   "cell_type": "code",
   "execution_count": 32,
   "id": "23736442",
   "metadata": {},
   "outputs": [],
   "source": [
    "# s_scaler = StandardScaler()\n",
    "# num_s_scal = s_scaler.fit_transform(nums)\n",
    "# num_s_scal = pd.DataFrame(num_s_scal)\n",
    "# num_s_scal"
   ]
  },
  {
   "cell_type": "code",
   "execution_count": 33,
   "id": "a8cc648e",
   "metadata": {},
   "outputs": [],
   "source": [
    "# mm_scaler = MinMaxScaler()\n",
    "# num_mm_scal = mm_scaler.fit_transform(nums)\n",
    "# num_mm_scal = pd.DataFrame(num_mm_scal)\n",
    "# num_mm_scal"
   ]
  },
  {
   "cell_type": "code",
   "execution_count": 34,
   "id": "469a0309",
   "metadata": {},
   "outputs": [],
   "source": [
    "# abs_scaler = MaxAbsScaler()\n",
    "# num_abs_scal = abs_scaler.fit_transform(nums)\n",
    "# num_abs_scal = pd.DataFrame(num_abs_scal)\n",
    "# num_abs_scal"
   ]
  },
  {
   "cell_type": "code",
   "execution_count": 35,
   "id": "ab30a3c9",
   "metadata": {},
   "outputs": [],
   "source": [
    "def make_scaled_sets(df):\n",
    "    from sklearn.preprocessing import StandardScaler, MinMaxScaler, MaxAbsScaler\n",
    "    \n",
    "    scales = []\n",
    "    \n",
    "    s_scaler = StandardScaler()\n",
    "    num_s_scal = s_scaler.fit_transform(df)\n",
    "    num_s_scal = pd.DataFrame(num_s_scal)\n",
    "    num_s_scal.columns = num_s_scal.columns.astype(str)\n",
    "    num_s_scal.name = 'StandardScaler'\n",
    "    scales.append(num_s_scal)\n",
    "    \n",
    "    mm_scaler = MinMaxScaler()\n",
    "    num_mm_scal = mm_scaler.fit_transform(df)\n",
    "    num_mm_scal = pd.DataFrame(num_mm_scal)\n",
    "    num_mm_scal.columns = num_mm_scal.columns.astype(str)\n",
    "    num_mm_scal.name = 'MinMaxScaler'\n",
    "    scales.append(num_mm_scal)\n",
    "    \n",
    "    abs_scaler = MaxAbsScaler()\n",
    "    num_abs_scal = abs_scaler.fit_transform(df)\n",
    "    num_abs_scal = pd.DataFrame(num_abs_scal)\n",
    "    num_abs_scal.columns = num_abs_scal.columns.astype(str)\n",
    "    num_abs_scal.name = 'MaxAbsScaler'\n",
    "    scales.append(num_abs_scal)\n",
    "    \n",
    "    \n",
    "    return scales\n",
    "\n",
    "\n"
   ]
  },
  {
   "cell_type": "code",
   "execution_count": 36,
   "id": "1ecdf23b",
   "metadata": {},
   "outputs": [],
   "source": [
    "scales = make_scaled_sets(cont_nums)\n"
   ]
  },
  {
   "cell_type": "code",
   "execution_count": 37,
   "id": "9f991f6a",
   "metadata": {},
   "outputs": [],
   "source": [
    "# num_s_scal.head()"
   ]
  },
  {
   "cell_type": "code",
   "execution_count": 38,
   "id": "9570c30c",
   "metadata": {},
   "outputs": [],
   "source": [
    "# num_mm_scal.head()"
   ]
  },
  {
   "cell_type": "code",
   "execution_count": 39,
   "id": "b4595dfb",
   "metadata": {},
   "outputs": [],
   "source": [
    "# num_abs_scal.head()"
   ]
  },
  {
   "cell_type": "code",
   "execution_count": null,
   "id": "1bd6d7e3",
   "metadata": {},
   "outputs": [],
   "source": []
  },
  {
   "cell_type": "code",
   "execution_count": 40,
   "id": "a2f38995",
   "metadata": {},
   "outputs": [],
   "source": [
    "\n",
    "disc_nums = disc_nums.reset_index(drop=True)\n",
    "ob_feats = ob_feats.reset_index(drop=True)\n",
    "\n",
    "features = pd.concat([scales[0], disc_nums, ob_feats], axis=1)\n",
    "\n",
    "X_train, X_test, y_train, y_test = train_test_split(features, target, random_state = 55)\n",
    "# # Making a split for initial testing purposes."
   ]
  },
  {
   "cell_type": "code",
   "execution_count": null,
   "id": "8c140092",
   "metadata": {},
   "outputs": [],
   "source": []
  },
  {
   "cell_type": "code",
   "execution_count": null,
   "id": "08cd0f38",
   "metadata": {},
   "outputs": [],
   "source": []
  },
  {
   "cell_type": "code",
   "execution_count": 41,
   "id": "f1b3b3c5",
   "metadata": {},
   "outputs": [
    {
     "name": "stdout",
     "output_type": "stream",
     "text": [
      "Accuracy: 0.8933548182107031\n"
     ]
    }
   ],
   "source": [
    "rfc = RandomForestClassifier()\n",
    "rfc.fit(X_train,y_train)\n",
    "y_pred = rfc.predict(X_test)\n",
    "accuracy = accuracy_score(y_test, y_pred)\n",
    "print(\"Accuracy:\", accuracy)\n",
    "\n",
    "# Training/fitting an initial run of the RandomForest Classifiier for baseline testing and for parameter tuning\n",
    "\n",
    "# Initial model run resulted in poor accuracy. Hyperparameter tuning can be used to improve the accuracy result."
   ]
  },
  {
   "cell_type": "code",
   "execution_count": null,
   "id": "df9425af",
   "metadata": {},
   "outputs": [],
   "source": []
  },
  {
   "cell_type": "code",
   "execution_count": 42,
   "id": "b71c81f0",
   "metadata": {},
   "outputs": [],
   "source": [
    "# Using the GridSearchCV function will allow us to test multiple iterations of the model each with a different set of parameters. The function compares the accuracy score of each iteration\n",
    "# and will finally report the best score and the parameter settings used to acheive this. \n",
    "\n",
    "\n",
    "# param_grid = {\n",
    "#     'n_estimators': [100, 200, 300],\n",
    "#     'max_depth': [5, 10, 15],\n",
    "#     'min_samples_split': [2, 5, 10],\n",
    "#     'min_samples_leaf': [1, 2, 4],\n",
    "#     'max_features': ['sqrt', 'log2'] }\n",
    "\n",
    "# rfc = RandomForestClassifier()\n",
    "# grid_search = GridSearchCV(rfc, param_grid=param_grid, cv=5)\n",
    "# grid_search.fit(X_train, y_train)\n",
    "\n",
    "# # print the best parameters and score\n",
    "# print(\"Best parameters: \", grid_search.best_params_)\n",
    "# print(\"Best score: \", grid_search.best_score_)\n",
    "\n",
    "\n",
    "\n",
    "# Best parameters:  {'max_depth': 15, 'max_features': 'sqrt', 'min_samples_leaf': 1, 'min_samples_split': 2, 'n_estimators': 200}\n",
    "# Best score:  0.785742018337664\n",
    "\n",
    "# ***After running the grid search function through the model hyperparameters we have acheived a best score of ~78% accuracy. The output best parameters wil be used for this model from here on out. \n"
   ]
  },
  {
   "cell_type": "code",
   "execution_count": 58,
   "id": "86272beb",
   "metadata": {},
   "outputs": [],
   "source": [
    "def hyper_tuning_rfc(X_train, y_train):\n",
    "    param_grid_rfc = {'n_estimators': [100, 200, 300], 'max_depth': [5, 10, 15, None], 'min_samples_split': [2, 5, 10], 'min_samples_leaf': [1, 2, 4], 'max_features': ['sqrt', 'log2', None] }\n",
    "    rfc = RandomForestClassifier()\n",
    "    grid_search = GridSearchCV(rfc, param_grid=param_grid_rfc, cv=5)\n",
    "    grid_search.fit(X_train, y_train)\n",
    "    rfc_best_params = grid_search.best_params_\n",
    "    \n",
    "    \n",
    "    #print the best parameters and score\n",
    "    print(\"Best parameters: \", grid_search.best_params_)\n",
    "    print(\"Best score: \", grid_search.best_score_)\n",
    "\n",
    "    return rfc_best_params\n",
    "\n",
    "# # Running multiple loops of the model to find the optimal set of model parameters to maximize model accuracy.\n",
    "# # Using the GridSearchCV function will allow us to test multiple iterations of the model each with a different set of parameters. The function compares the accuracy score of each iteration\n",
    "# # and will finally report the best score and the parameter settings used to acheive this. \n",
    "\n",
    "\n",
    "\n"
   ]
  },
  {
   "cell_type": "code",
   "execution_count": null,
   "id": "67094a15",
   "metadata": {},
   "outputs": [],
   "source": [
    " rfc_best_params = hyper_tuning_rfc(X_train, y_train)"
   ]
  },
  {
   "cell_type": "code",
   "execution_count": 45,
   "id": "b27df639",
   "metadata": {},
   "outputs": [
    {
     "name": "stdout",
     "output_type": "stream",
     "text": [
      "Accuracy: 0.8300349507512143\n"
     ]
    }
   ],
   "source": [
    "\n",
    "knn = KNeighborsClassifier()\n",
    "knn.fit(X_train, y_train)\n",
    "\n",
    "y_pred = knn.predict(X_test)\n",
    "\n",
    "accuracy = accuracy_score(y_test, y_pred)\n",
    "print(\"Accuracy:\", accuracy)\n",
    "\n",
    "# # An initial run of the KNN Classifier on the same training data as the RandomForest model reports much higher accuracy\n",
    "\n",
    "# # Hyper-paramter tuning will be run for this model as well in an attempt to maximize our models accuracy."
   ]
  },
  {
   "cell_type": "code",
   "execution_count": 46,
   "id": "c25f038d",
   "metadata": {},
   "outputs": [],
   "source": [
    "def hyper_tuning_knn(X_train, y_train):\n",
    "    param_grid_knn = {'n_neighbors': (1,10, 1), 'leaf_size': (20,40,1), 'p': (1,2), 'weights': ('uniform', 'distance'), 'metric': ('minkowski', 'chebyshev')}\n",
    "    knn = KNeighborsClassifier()\n",
    "    grid_search = GridSearchCV(knn, param_grid=param_grid_knn, cv=5)\n",
    "    grid_search.fit(X_train, y_train)\n",
    "    knn_best_params = grid_search.best_params_\n",
    "    \n",
    "    \n",
    "    #print the best parameters and score\n",
    "    print(\"Best parameters: \", grid_search.best_params_)\n",
    "    print(\"Best score: \", grid_search.best_score_)\n",
    "\n",
    "    return knn_best_params\n",
    "\n",
    "# # Running multiple loops of the model to find the optimal set of model parameters to maximize model accuracy\n",
    "\n",
    "# Best parameters:  {'leaf_size': 20, 'metric': 'minkowski', 'n_neighbors': 1, 'p': 1, 'weights': 'uniform'}\n",
    "# Best score:  0.8498700833258669\n",
    "\n",
    "# # ***After running the grid search function through the model hyperparameters we have acheived a best score of ~84% accuracy. The output best parameters wil be used for this model from here on out. \n"
   ]
  },
  {
   "cell_type": "code",
   "execution_count": 47,
   "id": "b4300907",
   "metadata": {},
   "outputs": [
    {
     "name": "stdout",
     "output_type": "stream",
     "text": [
      "Best parameters:  {'leaf_size': 20, 'metric': 'minkowski', 'n_neighbors': 1, 'p': 1, 'weights': 'uniform'}\n",
      "Best score:  0.8907070247316268\n"
     ]
    }
   ],
   "source": [
    "knn_best_params = hyper_tuning_knn(X_train, y_train)"
   ]
  },
  {
   "cell_type": "code",
   "execution_count": 48,
   "id": "2d72e3f1",
   "metadata": {},
   "outputs": [],
   "source": []
  },
  {
   "cell_type": "code",
   "execution_count": null,
   "id": "70d84d9a",
   "metadata": {},
   "outputs": [],
   "source": [
    "\n"
   ]
  },
  {
   "cell_type": "code",
   "execution_count": null,
   "id": "8eec0360",
   "metadata": {},
   "outputs": [],
   "source": []
  },
  {
   "cell_type": "code",
   "execution_count": 49,
   "id": "69391e6b",
   "metadata": {},
   "outputs": [],
   "source": [
    "# def test_scales_rfc(scales):\n",
    "#     for i in range(len(scales)):\n",
    "#         name = scales[i].name\n",
    "#         features = pd.concat([scales[i], disc_nums, ob_feats], axis=1)\n",
    "#         X_train, X_test, y_train, y_test = train_test_split(features, target, random_state = 55)\n",
    "#         rf = RandomForestClassifier(max_depth=15, max_features='sqrt', min_samples_leaf=1, min_samples_split=2, n_estimators=200)\n",
    "#         rf.fit(X_train,y_train)\n",
    "#         y_pred = rf.predict(X_test)\n",
    "#         accuracy = accuracy_score(y_test, y_pred)\n",
    "#         print(name, \"Accuracy:\", accuracy)\n",
    "        \n",
    "        \n",
    "        \n",
    "# ###This function will train an iteration of the rfc model (with the best_params determined by the GridSearch) for each of our scaler options (StandardScaler, MinMaxScaler, and MaxABSscaler)\n",
    "# # And print an accuracy score for each iteration of the model. Allowing us to find best possible accuracy from our scaling options.\n",
    "\n"
   ]
  },
  {
   "cell_type": "code",
   "execution_count": 50,
   "id": "4597ae1c",
   "metadata": {},
   "outputs": [],
   "source": [
    "# test_scales_rfc(scales)"
   ]
  },
  {
   "cell_type": "code",
   "execution_count": null,
   "id": "c2ee12bf",
   "metadata": {},
   "outputs": [],
   "source": []
  },
  {
   "cell_type": "code",
   "execution_count": null,
   "id": "a72e1cbb",
   "metadata": {},
   "outputs": [],
   "source": []
  },
  {
   "cell_type": "code",
   "execution_count": null,
   "id": "7048f5dd",
   "metadata": {},
   "outputs": [],
   "source": []
  },
  {
   "cell_type": "code",
   "execution_count": 51,
   "id": "fc65398f",
   "metadata": {},
   "outputs": [],
   "source": [
    "# def test_scales_knn(scales, knn_best_params):\n",
    "#     for i in range(len(scales)):\n",
    "#         name = scales[i].name\n",
    "#         features = pd.concat([scales[i], disc_nums, ob_feats], axis=1)\n",
    "#         X_train, X_test, y_train, y_test = train_test_split(features, target, random_state = 55)\n",
    "#         knn = KNeighborsClassifier(**knn_best_params)\n",
    "#         knn.fit(X_train,y_train)\n",
    "#         y_pred = knn.predict(X_test)\n",
    "#         accuracy = accuracy_score(y_test, y_pred)\n",
    "#         print(name, \"Accuracy:\", accuracy)\n",
    "        \n",
    "        \n",
    "# ###This function will train an iteration of the knn model (with the best_params determined by the GridSearch) for each of our scaler options (StandardScaler, MinMaxScaler, and MaxABSscaler)\n",
    "# # And print an accuracy score for each iteration of the model. Allowing us to find best possible accuracy from our scaling options."
   ]
  },
  {
   "cell_type": "code",
   "execution_count": 52,
   "id": "0a00ec7f",
   "metadata": {},
   "outputs": [],
   "source": [
    "# test_scales_knn(scales, knn_best_params)"
   ]
  },
  {
   "cell_type": "code",
   "execution_count": 53,
   "id": "27597239",
   "metadata": {},
   "outputs": [],
   "source": [
    "models = [RandomForestClassifier(), KNeighborsClassifier()]"
   ]
  },
  {
   "cell_type": "code",
   "execution_count": 54,
   "id": "27977fe4",
   "metadata": {},
   "outputs": [],
   "source": [
    "# def test_models_scales(scales, models, knn_best_params, rfc_best_params):\n",
    "#     for model in range(len(models)):\n",
    "#         print(f\"{type(model).__name__}:)\n",
    "#         for i in range(len(scales)):\n",
    "#             name = scales[i].name\n",
    "#             features = pd.concat([scales[i], disc_nums, ob_feats], axis=1)\n",
    "#             X_train, X_test, y_train, y_test = train_test_split(features, target, random_state = 55)\n",
    "#             model = model(**best_params_item matching current model)\n",
    "#             knn.fit(X_train,y_train)\n",
    "#             y_pred = knn.predict(X_test)\n",
    "#             accuracy = accuracy_score(y_test, y_pred)\n",
    "#             print(name, \"Accuracy:\", accuracy)\n",
    "            \n",
    "        \n",
    "         \n",
    "        "
   ]
  },
  {
   "cell_type": "code",
   "execution_count": 55,
   "id": "daa1ebc1",
   "metadata": {},
   "outputs": [],
   "source": [
    "def test_models_scales(scales, disc_nums, ob_feats, models, knn_best_params, rfc_best_params, target):\n",
    "    for model in models:\n",
    "        model_name = type(model).__name__\n",
    "        for scale in scales:\n",
    "            scale_name = scale.name\n",
    "            features = pd.concat([scale, disc_nums, ob_feats], axis=1)\n",
    "            X_train, X_test, y_train, y_test = train_test_split(features, target, random_state=55)\n",
    "            if model_name == 'KNeighborsClassifier':\n",
    "                clf = KNeighborsClassifier(**knn_best_params)\n",
    "            elif model_name == 'RandomForestClassifier':\n",
    "                clf = RandomForestClassifier(**rfc_best_params)\n",
    "            clf.fit(X_train, y_train)\n",
    "            y_pred = clf.predict(X_test)\n",
    "            accuracy = accuracy_score(y_test, y_pred)\n",
    "            print(f\"{model_name} : {scale_name} : {accuracy}\")\n"
   ]
  },
  {
   "cell_type": "code",
   "execution_count": 56,
   "id": "7c5951f1",
   "metadata": {},
   "outputs": [
    {
     "name": "stdout",
     "output_type": "stream",
     "text": [
      "RandomForestClassifier : StandardScaler : 0.8122418410421679\n",
      "RandomForestClassifier : MinMaxScaler : 0.814102855067859\n",
      "RandomForestClassifier : MaxAbsScaler : 0.8126503563161\n",
      "KNeighborsClassifier : StandardScaler : 0.9021152013072489\n",
      "KNeighborsClassifier : MinMaxScaler : 0.8873632608596977\n",
      "KNeighborsClassifier : MaxAbsScaler : 0.8872270891017203\n"
     ]
    }
   ],
   "source": [
    "test_models_scales(scales, disc_nums, ob_feats, models, knn_best_params, rfc_best_params, target)"
   ]
  },
  {
   "cell_type": "code",
   "execution_count": null,
   "id": "648a82bc",
   "metadata": {},
   "outputs": [],
   "source": [
    "# With the reults from the test_models_scales function we now have the optimal model type, scaler type, and best parameters for the model.\n",
    "# Now we can fit the model one last time to export for future use.\n",
    "\n",
    "driver_ratings_model = KNeighborsClassifier(**knn_best_params)\n",
    "features = pd.concat([scales[0], disc_nums, ob_feats], axis=1)\n",
    "X_train, X_test, y_train, y_test = train_test_split(features, target, random_state=55)\n",
    "driver_ratings_model.fit(X_train, y_train)\n",
    "\n",
    "import joblib\n",
    "   \n",
    "# Save the model as a pickle in a file\n",
    "joblib.dump(driver_ratings_model, 'driver_ratings_model.pkl')\n",
    "  \n"
   ]
  },
  {
   "cell_type": "code",
   "execution_count": null,
   "id": "d839f552",
   "metadata": {},
   "outputs": [],
   "source": []
  },
  {
   "cell_type": "code",
   "execution_count": null,
   "id": "952abbd7",
   "metadata": {},
   "outputs": [],
   "source": []
  }
 ],
 "metadata": {
  "kernelspec": {
   "display_name": "Python 3 (ipykernel)",
   "language": "python",
   "name": "python3"
  },
  "language_info": {
   "codemirror_mode": {
    "name": "ipython",
    "version": 3
   },
   "file_extension": ".py",
   "mimetype": "text/x-python",
   "name": "python",
   "nbconvert_exporter": "python",
   "pygments_lexer": "ipython3",
   "version": "3.8.10"
  }
 },
 "nbformat": 4,
 "nbformat_minor": 5
}
