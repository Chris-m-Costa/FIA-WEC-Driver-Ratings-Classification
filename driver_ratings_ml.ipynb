{
 "cells": [
  {
   "cell_type": "code",
   "execution_count": 70,
   "id": "8ac374ca",
   "metadata": {},
   "outputs": [
    {
     "data": {
      "text/html": [
       "<style>.container { width:90% !important; }</style>"
      ],
      "text/plain": [
       "<IPython.core.display.HTML object>"
      ]
     },
     "metadata": {},
     "output_type": "display_data"
    }
   ],
   "source": [
    "from IPython.display import display, HTML\n",
    "display(HTML(\"<style>.container { width:90% !important; }</style>\"))\n",
    "\n",
    "import pandas as pd\n",
    "pd.set_option('display.max_rows', 5000)\n",
    "pd.set_option('display.max_columns', 5000)\n",
    "\n",
    "import numpy as np\n",
    "\n",
    "\n",
    "from sklearn.preprocessing import StandardScaler, MinMaxScaler, MaxAbsScaler, OneHotEncoder\n",
    "from sklearn.metrics import confusion_matrix, accuracy_score\n",
    "from sklearn.model_selection import train_test_split\n",
    "\n",
    "from sklearn.ensemble import RandomForestClassifier\n",
    "from sklearn.neighbors import KNeighborsClassifier\n",
    "from sklearn.model_selection import GridSearchCV\n",
    "\n",
    "\n",
    "\n"
   ]
  },
  {
   "cell_type": "code",
   "execution_count": 2,
   "id": "702ae0ff",
   "metadata": {},
   "outputs": [
    {
     "name": "stderr",
     "output_type": "stream",
     "text": [
      "/tmp/ipykernel_1390/3317488320.py:1: DtypeWarning: Columns (26,31,49) have mixed types. Specify dtype option on import or set low_memory=False.\n",
      "  data = pd.read_csv('final_wec_data.csv')\n"
     ]
    }
   ],
   "source": [
    "data = pd.read_csv('final_wec_data.csv')"
   ]
  },
  {
   "cell_type": "code",
   "execution_count": 3,
   "id": "b0a2d91c",
   "metadata": {},
   "outputs": [],
   "source": [
    "# data = data.drop('Unnamed: 0', axis=1)\n",
    "# #  Dropping the extra index col\n",
    "\n",
    "# data = data[data['year'] >= 2017].reset_index(drop=True)\n",
    "# # # Dropping data from prior to 2017 as driver_ratings data was not available\n",
    "\n",
    "# data = data.drop(['lap_number', 'car_number', 'lap_number', 'driver_number', 'lap_time', 'elapsed', 'hour', 's1_large', 's2_large', 's3_large', 'driver_name', 'pit_time', 'group', 'team', 'manufacturer', 'season', 'vehicle', 'team_no','lap_time_ms', 'engine', 'driver_stint',\n",
    "#            'team_stint', 'team_stint_no', 'interval_ms', 'interval', 'elapsed_ms', 'position', 'gap', 'elapsed_s', ], axis=1)\n",
    "# # Initial columns dropped because not needed/not useable for modeling. Remaining columns will be further assessed "
   ]
  },
  {
   "cell_type": "code",
   "execution_count": 4,
   "id": "92a4acc6",
   "metadata": {},
   "outputs": [
    {
     "data": {
      "text/plain": [
       "Index(['Unnamed: 0', 'car_number', 'driver_number', 'lap_number', 'lap_time',\n",
       "       'lap_improvement', 'crossing_finish_line_in_pit', 's1',\n",
       "       's1_improvement', 's2', 's2_improvement', 's3', 's3_improvement',\n",
       "       'lap_avg_kph', 'elapsed', 'hour', 's1_large', 's2_large', 's3_large',\n",
       "       'lap_max_kph', 'driver_name', 'pit_time', 'class', 'group', 'team',\n",
       "       'manufacturer', 'season', 'year', 'circuit', 'round', 'vehicle',\n",
       "       'flag_at_fl', 'team_no', 'lap_time_ms', 'lap_time_s', 'engine',\n",
       "       'driver_stint_no', 'driver_stint', 'team_stint_no', 'team_stint',\n",
       "       'elapsed_ms', 'position', 'class_position', 'interval_ms', 'interval',\n",
       "       'gap', 'class_interval', 'class_gap', 'elapsed_s', 'rating',\n",
       "       'rolling_5l_avg'],\n",
       "      dtype='object')"
      ]
     },
     "execution_count": 4,
     "metadata": {},
     "output_type": "execute_result"
    }
   ],
   "source": [
    "data.columns"
   ]
  },
  {
   "cell_type": "code",
   "execution_count": 5,
   "id": "8ad4d8e6",
   "metadata": {},
   "outputs": [],
   "source": [
    "def df_for_ml(df):\n",
    "\n",
    "    df = df.drop('Unnamed: 0', axis=1)\n",
    "    df = data[data['year'] >= 2017].reset_index(drop=True)\n",
    "    # Dropping data from prior to 2017 as driver_ratings data was not available\n",
    "    df = df.drop(['lap_number', 'car_number', 'lap_number', 'driver_number', 'lap_time', 'elapsed', 'hour', 's1_large', 's2_large', 's3_large', 'driver_name', 'pit_time', 'group', 'team', 'manufacturer', 'season', 'vehicle', 'team_no','lap_time_ms', 'engine', 'driver_stint',\n",
    "           'team_stint', 'team_stint_no', 'interval_ms', 'interval', 'elapsed_ms', 'position', 'gap', 'elapsed_s'], axis=1)\n",
    "    # Initial columns dropped because not needed/not useable for modeling. Remaining columns will be further assessed \n",
    "    \n",
    "    return df\n",
    "\n",
    "\n"
   ]
  },
  {
   "cell_type": "code",
   "execution_count": 6,
   "id": "008707b6",
   "metadata": {},
   "outputs": [],
   "source": [
    "data = df_for_ml(data)"
   ]
  },
  {
   "cell_type": "code",
   "execution_count": null,
   "id": "67a7022c",
   "metadata": {},
   "outputs": [],
   "source": []
  },
  {
   "cell_type": "code",
   "execution_count": 7,
   "id": "854a59dc",
   "metadata": {},
   "outputs": [],
   "source": [
    "def fixing_kept_cols(df):\n",
    "    df['crossing_finish_line_in_pit'] = df['crossing_finish_line_in_pit'].fillna(0)\n",
    "    df['crossing_finish_line_in_pit'] = df['crossing_finish_line_in_pit'].replace('B', 1)\n",
    "#   B represents a car crossing the start/finish line in pitlane, NaN means the car was on track. Values are replaced with binary 0 for on-track, 1 for in-pit\n",
    "\n",
    "    df = df[df['class']!='INNOVATIVE CAR']\n",
    "#     removing the innovative class to eliminate outlier data\n",
    "    \n",
    "    \n",
    "    df['circuit'] = df['circuit'].replace({'SPA FRANCORCHAMPS':'Spa', 'BAHRAIN INTERNATIONAL CIRCUIT':'Bahrain', 'FUJI SPEEDWAY':'Fuji', 'SHANGHAI INTERNATIONAL CIRCUIT':'Shanghai', 'CIRCUIT OF THE AMERICAS':'COTA',\n",
    "    'AUTODROMO HERMANOS RODRIGUEZ':'Mexico', 'LE MANS 2018':'Le Mans', 'SPA FRANCORCHAMPS 2019':'Spa','LE MANS 2019':'Le Mans', 'BAHRAIN INTERNATIONAL CIRCUIT 2019': 'Bahrain',\n",
    "    'BAHRAIN INTERNATIONAL CIRCUIT 2020':'Bahrain', 'AUTODROMO DO ALGARVE':'Portimao', 'AUTODROMO NAZIONALE DI MONZA':'Monza', 'BAHRAIN INTERNATIONAL CIRCUIT 6 HOURS':'Bahrain', 'BAHRAIN INTERNATIONAL CIRCUIT 8 HOURS':'Bahrain'})\n",
    "    df['circuit'] = df['circuit'].str.lower() \n",
    "#     Replacing the long-form and/or year appended circuit names with the common-use short versions. Also changes all to lower-case\n",
    "\n",
    "\n",
    "    df = df.drop('flag_at_fl', axis=1)\n",
    "#     df in column only exists for season 2022, some value meanings can not be determined.\n",
    "\n",
    "    return df\n"
   ]
  },
  {
   "cell_type": "code",
   "execution_count": 8,
   "id": "1cf2790e",
   "metadata": {},
   "outputs": [
    {
     "name": "stderr",
     "output_type": "stream",
     "text": [
      "/tmp/ipykernel_1390/936137902.py:10: SettingWithCopyWarning: \n",
      "A value is trying to be set on a copy of a slice from a DataFrame.\n",
      "Try using .loc[row_indexer,col_indexer] = value instead\n",
      "\n",
      "See the caveats in the documentation: https://pandas.pydata.org/pandas-docs/stable/user_guide/indexing.html#returning-a-view-versus-a-copy\n",
      "  df['circuit'] = df['circuit'].replace({'SPA FRANCORCHAMPS':'Spa', 'BAHRAIN INTERNATIONAL CIRCUIT':'Bahrain', 'FUJI SPEEDWAY':'Fuji', 'SHANGHAI INTERNATIONAL CIRCUIT':'Shanghai', 'CIRCUIT OF THE AMERICAS':'COTA',\n",
      "/tmp/ipykernel_1390/936137902.py:13: SettingWithCopyWarning: \n",
      "A value is trying to be set on a copy of a slice from a DataFrame.\n",
      "Try using .loc[row_indexer,col_indexer] = value instead\n",
      "\n",
      "See the caveats in the documentation: https://pandas.pydata.org/pandas-docs/stable/user_guide/indexing.html#returning-a-view-versus-a-copy\n",
      "  df['circuit'] = df['circuit'].str.lower()\n"
     ]
    }
   ],
   "source": [
    "data = fixing_kept_cols(data)"
   ]
  },
  {
   "cell_type": "code",
   "execution_count": null,
   "id": "09fd514d",
   "metadata": {},
   "outputs": [],
   "source": []
  },
  {
   "cell_type": "code",
   "execution_count": 9,
   "id": "e97cb679",
   "metadata": {},
   "outputs": [
    {
     "data": {
      "text/plain": [
       "Unnamed: 0                      0.000000\n",
       "lap_improvement                 0.000000\n",
       "crossing_finish_line_in_pit     0.000000\n",
       "s1                              0.007801\n",
       "s1_improvement                  0.000000\n",
       "s2                              0.047584\n",
       "s2_improvement                  0.000000\n",
       "s3                              0.039783\n",
       "s3_improvement                  0.000000\n",
       "lap_avg_kph                     0.000000\n",
       "lap_max_kph                     0.249620\n",
       "class                           0.000000\n",
       "year                            0.000000\n",
       "circuit                         0.000000\n",
       "round                           0.000000\n",
       "lap_time_s                      0.000000\n",
       "driver_stint_no                 0.000000\n",
       "class_position                  0.000000\n",
       "class_interval                  0.000000\n",
       "class_gap                       0.000000\n",
       "rating                         12.686922\n",
       "rolling_5l_avg                  0.000000\n",
       "dtype: float64"
      ]
     },
     "execution_count": 9,
     "metadata": {},
     "output_type": "execute_result"
    }
   ],
   "source": [
    "data.isna().sum()/len(data)*100\n",
    "\n",
    "#small percentages of nan values can be safely dropped without significant effect. \n",
    "#12.68% of laps were run by a driver for which we have no rating info"
   ]
  },
  {
   "cell_type": "code",
   "execution_count": 10,
   "id": "af836c5a",
   "metadata": {},
   "outputs": [],
   "source": [
    "data = data.dropna().reset_index(drop=True)\n",
    "# Dropping NaN values to remove rows with missing data\n",
    "\n",
    "#This will be included into the fixing_kept_cols function when the code is refactored"
   ]
  },
  {
   "cell_type": "code",
   "execution_count": 11,
   "id": "b9b20bac",
   "metadata": {},
   "outputs": [
    {
     "data": {
      "text/plain": [
       "Unnamed: 0                     0.0\n",
       "lap_improvement                0.0\n",
       "crossing_finish_line_in_pit    0.0\n",
       "s1                             0.0\n",
       "s1_improvement                 0.0\n",
       "s2                             0.0\n",
       "s2_improvement                 0.0\n",
       "s3                             0.0\n",
       "s3_improvement                 0.0\n",
       "lap_avg_kph                    0.0\n",
       "lap_max_kph                    0.0\n",
       "class                          0.0\n",
       "year                           0.0\n",
       "circuit                        0.0\n",
       "round                          0.0\n",
       "lap_time_s                     0.0\n",
       "driver_stint_no                0.0\n",
       "class_position                 0.0\n",
       "class_interval                 0.0\n",
       "class_gap                      0.0\n",
       "rating                         0.0\n",
       "rolling_5l_avg                 0.0\n",
       "dtype: float64"
      ]
     },
     "execution_count": 11,
     "metadata": {},
     "output_type": "execute_result"
    }
   ],
   "source": [
    "data.isna().sum()/len(data)*100"
   ]
  },
  {
   "cell_type": "code",
   "execution_count": null,
   "id": "c77f67d1",
   "metadata": {},
   "outputs": [],
   "source": []
  },
  {
   "cell_type": "code",
   "execution_count": 12,
   "id": "33af7f45",
   "metadata": {},
   "outputs": [
    {
     "data": {
      "text/html": [
       "<div>\n",
       "<style scoped>\n",
       "    .dataframe tbody tr th:only-of-type {\n",
       "        vertical-align: middle;\n",
       "    }\n",
       "\n",
       "    .dataframe tbody tr th {\n",
       "        vertical-align: top;\n",
       "    }\n",
       "\n",
       "    .dataframe thead th {\n",
       "        text-align: right;\n",
       "    }\n",
       "</style>\n",
       "<table border=\"1\" class=\"dataframe\">\n",
       "  <thead>\n",
       "    <tr style=\"text-align: right;\">\n",
       "      <th></th>\n",
       "      <th>Unnamed: 0</th>\n",
       "      <th>lap_improvement</th>\n",
       "      <th>crossing_finish_line_in_pit</th>\n",
       "      <th>s1</th>\n",
       "      <th>s1_improvement</th>\n",
       "      <th>s2</th>\n",
       "      <th>s2_improvement</th>\n",
       "      <th>s3</th>\n",
       "      <th>s3_improvement</th>\n",
       "      <th>lap_avg_kph</th>\n",
       "      <th>lap_max_kph</th>\n",
       "      <th>class</th>\n",
       "      <th>year</th>\n",
       "      <th>circuit</th>\n",
       "      <th>round</th>\n",
       "      <th>lap_time_s</th>\n",
       "      <th>driver_stint_no</th>\n",
       "      <th>class_position</th>\n",
       "      <th>class_interval</th>\n",
       "      <th>class_gap</th>\n",
       "      <th>rating</th>\n",
       "      <th>rolling_5l_avg</th>\n",
       "    </tr>\n",
       "  </thead>\n",
       "  <tbody>\n",
       "    <tr>\n",
       "      <th>0</th>\n",
       "      <td>246956</td>\n",
       "      <td>0</td>\n",
       "      <td>0</td>\n",
       "      <td>41.322</td>\n",
       "      <td>0</td>\n",
       "      <td>51.911</td>\n",
       "      <td>0</td>\n",
       "      <td>33.424</td>\n",
       "      <td>0</td>\n",
       "      <td>167.7</td>\n",
       "      <td>242.7</td>\n",
       "      <td>LMGTE Am</td>\n",
       "      <td>2017</td>\n",
       "      <td>silverstone</td>\n",
       "      <td>1</td>\n",
       "      <td>126.657</td>\n",
       "      <td>1</td>\n",
       "      <td>1.0</td>\n",
       "      <td>0.000</td>\n",
       "      <td>0.000</td>\n",
       "      <td>S</td>\n",
       "      <td>126.6570</td>\n",
       "    </tr>\n",
       "    <tr>\n",
       "      <th>1</th>\n",
       "      <td>246957</td>\n",
       "      <td>0</td>\n",
       "      <td>0</td>\n",
       "      <td>41.504</td>\n",
       "      <td>0</td>\n",
       "      <td>52.321</td>\n",
       "      <td>0</td>\n",
       "      <td>33.244</td>\n",
       "      <td>0</td>\n",
       "      <td>167.2</td>\n",
       "      <td>249.4</td>\n",
       "      <td>LMGTE Am</td>\n",
       "      <td>2017</td>\n",
       "      <td>silverstone</td>\n",
       "      <td>1</td>\n",
       "      <td>127.069</td>\n",
       "      <td>1</td>\n",
       "      <td>2.0</td>\n",
       "      <td>0.412</td>\n",
       "      <td>0.412</td>\n",
       "      <td>P</td>\n",
       "      <td>124.8002</td>\n",
       "    </tr>\n",
       "    <tr>\n",
       "      <th>2</th>\n",
       "      <td>246958</td>\n",
       "      <td>0</td>\n",
       "      <td>0</td>\n",
       "      <td>42.036</td>\n",
       "      <td>0</td>\n",
       "      <td>52.346</td>\n",
       "      <td>0</td>\n",
       "      <td>33.114</td>\n",
       "      <td>0</td>\n",
       "      <td>166.6</td>\n",
       "      <td>246.0</td>\n",
       "      <td>LMGTE Am</td>\n",
       "      <td>2017</td>\n",
       "      <td>silverstone</td>\n",
       "      <td>1</td>\n",
       "      <td>127.496</td>\n",
       "      <td>1</td>\n",
       "      <td>3.0</td>\n",
       "      <td>0.427</td>\n",
       "      <td>0.839</td>\n",
       "      <td>S</td>\n",
       "      <td>135.6296</td>\n",
       "    </tr>\n",
       "    <tr>\n",
       "      <th>3</th>\n",
       "      <td>246959</td>\n",
       "      <td>0</td>\n",
       "      <td>0</td>\n",
       "      <td>42.815</td>\n",
       "      <td>0</td>\n",
       "      <td>52.290</td>\n",
       "      <td>0</td>\n",
       "      <td>32.766</td>\n",
       "      <td>0</td>\n",
       "      <td>166.1</td>\n",
       "      <td>248.3</td>\n",
       "      <td>LMGTE Am</td>\n",
       "      <td>2017</td>\n",
       "      <td>silverstone</td>\n",
       "      <td>1</td>\n",
       "      <td>127.871</td>\n",
       "      <td>1</td>\n",
       "      <td>4.0</td>\n",
       "      <td>0.375</td>\n",
       "      <td>1.214</td>\n",
       "      <td>G</td>\n",
       "      <td>125.1642</td>\n",
       "    </tr>\n",
       "    <tr>\n",
       "      <th>4</th>\n",
       "      <td>246960</td>\n",
       "      <td>0</td>\n",
       "      <td>0</td>\n",
       "      <td>42.827</td>\n",
       "      <td>0</td>\n",
       "      <td>54.325</td>\n",
       "      <td>0</td>\n",
       "      <td>34.207</td>\n",
       "      <td>0</td>\n",
       "      <td>161.7</td>\n",
       "      <td>242.7</td>\n",
       "      <td>LMGTE Am</td>\n",
       "      <td>2017</td>\n",
       "      <td>silverstone</td>\n",
       "      <td>1</td>\n",
       "      <td>131.359</td>\n",
       "      <td>1</td>\n",
       "      <td>5.0</td>\n",
       "      <td>3.488</td>\n",
       "      <td>4.702</td>\n",
       "      <td>B</td>\n",
       "      <td>124.4692</td>\n",
       "    </tr>\n",
       "  </tbody>\n",
       "</table>\n",
       "</div>"
      ],
      "text/plain": [
       "   Unnamed: 0  lap_improvement  crossing_finish_line_in_pit      s1  \\\n",
       "0      246956                0                            0  41.322   \n",
       "1      246957                0                            0  41.504   \n",
       "2      246958                0                            0  42.036   \n",
       "3      246959                0                            0  42.815   \n",
       "4      246960                0                            0  42.827   \n",
       "\n",
       "   s1_improvement      s2  s2_improvement      s3  s3_improvement  \\\n",
       "0               0  51.911               0  33.424               0   \n",
       "1               0  52.321               0  33.244               0   \n",
       "2               0  52.346               0  33.114               0   \n",
       "3               0  52.290               0  32.766               0   \n",
       "4               0  54.325               0  34.207               0   \n",
       "\n",
       "   lap_avg_kph  lap_max_kph     class  year      circuit  round  lap_time_s  \\\n",
       "0        167.7        242.7  LMGTE Am  2017  silverstone      1     126.657   \n",
       "1        167.2        249.4  LMGTE Am  2017  silverstone      1     127.069   \n",
       "2        166.6        246.0  LMGTE Am  2017  silverstone      1     127.496   \n",
       "3        166.1        248.3  LMGTE Am  2017  silverstone      1     127.871   \n",
       "4        161.7        242.7  LMGTE Am  2017  silverstone      1     131.359   \n",
       "\n",
       "   driver_stint_no  class_position  class_interval  class_gap rating  \\\n",
       "0                1             1.0           0.000      0.000      S   \n",
       "1                1             2.0           0.412      0.412      P   \n",
       "2                1             3.0           0.427      0.839      S   \n",
       "3                1             4.0           0.375      1.214      G   \n",
       "4                1             5.0           3.488      4.702      B   \n",
       "\n",
       "   rolling_5l_avg  \n",
       "0        126.6570  \n",
       "1        124.8002  \n",
       "2        135.6296  \n",
       "3        125.1642  \n",
       "4        124.4692  "
      ]
     },
     "execution_count": 12,
     "metadata": {},
     "output_type": "execute_result"
    }
   ],
   "source": [
    "data.head()"
   ]
  },
  {
   "cell_type": "code",
   "execution_count": 13,
   "id": "a44de13e",
   "metadata": {},
   "outputs": [
    {
     "data": {
      "text/plain": [
       "Unnamed: 0                       int64\n",
       "lap_improvement                  int64\n",
       "crossing_finish_line_in_pit      int64\n",
       "s1                             float64\n",
       "s1_improvement                   int64\n",
       "s2                             float64\n",
       "s2_improvement                   int64\n",
       "s3                             float64\n",
       "s3_improvement                   int64\n",
       "lap_avg_kph                    float64\n",
       "lap_max_kph                    float64\n",
       "class                           object\n",
       "year                             int64\n",
       "circuit                         object\n",
       "round                            int64\n",
       "lap_time_s                     float64\n",
       "driver_stint_no                  int64\n",
       "class_position                 float64\n",
       "class_interval                 float64\n",
       "class_gap                      float64\n",
       "rating                          object\n",
       "rolling_5l_avg                 float64\n",
       "dtype: object"
      ]
     },
     "execution_count": 13,
     "metadata": {},
     "output_type": "execute_result"
    }
   ],
   "source": [
    "data.dtypes"
   ]
  },
  {
   "cell_type": "code",
   "execution_count": 14,
   "id": "2af5d45d",
   "metadata": {},
   "outputs": [
    {
     "data": {
      "text/html": [
       "<div>\n",
       "<style scoped>\n",
       "    .dataframe tbody tr th:only-of-type {\n",
       "        vertical-align: middle;\n",
       "    }\n",
       "\n",
       "    .dataframe tbody tr th {\n",
       "        vertical-align: top;\n",
       "    }\n",
       "\n",
       "    .dataframe thead th {\n",
       "        text-align: right;\n",
       "    }\n",
       "</style>\n",
       "<table border=\"1\" class=\"dataframe\">\n",
       "  <thead>\n",
       "    <tr style=\"text-align: right;\">\n",
       "      <th></th>\n",
       "      <th>Unnamed: 0</th>\n",
       "      <th>lap_improvement</th>\n",
       "      <th>crossing_finish_line_in_pit</th>\n",
       "      <th>s1</th>\n",
       "      <th>s1_improvement</th>\n",
       "      <th>s2</th>\n",
       "      <th>s2_improvement</th>\n",
       "      <th>s3</th>\n",
       "      <th>s3_improvement</th>\n",
       "      <th>lap_avg_kph</th>\n",
       "      <th>lap_max_kph</th>\n",
       "      <th>year</th>\n",
       "      <th>round</th>\n",
       "      <th>lap_time_s</th>\n",
       "      <th>driver_stint_no</th>\n",
       "      <th>class_position</th>\n",
       "      <th>class_interval</th>\n",
       "      <th>class_gap</th>\n",
       "      <th>rolling_5l_avg</th>\n",
       "    </tr>\n",
       "  </thead>\n",
       "  <tbody>\n",
       "    <tr>\n",
       "      <th>count</th>\n",
       "      <td>223221.000000</td>\n",
       "      <td>223221.000000</td>\n",
       "      <td>223221.000000</td>\n",
       "      <td>223221.000000</td>\n",
       "      <td>223221.000000</td>\n",
       "      <td>223221.000000</td>\n",
       "      <td>223221.000000</td>\n",
       "      <td>223221.000000</td>\n",
       "      <td>223221.000000</td>\n",
       "      <td>223221.000000</td>\n",
       "      <td>223221.000000</td>\n",
       "      <td>223221.000000</td>\n",
       "      <td>223221.000000</td>\n",
       "      <td>223221.000000</td>\n",
       "      <td>223221.000000</td>\n",
       "      <td>223221.000000</td>\n",
       "      <td>223221.000000</td>\n",
       "      <td>223221.000000</td>\n",
       "      <td>223221.000000</td>\n",
       "    </tr>\n",
       "    <tr>\n",
       "      <th>mean</th>\n",
       "      <td>372076.886745</td>\n",
       "      <td>0.009582</td>\n",
       "      <td>0.060966</td>\n",
       "      <td>44.044375</td>\n",
       "      <td>0.018184</td>\n",
       "      <td>66.645666</td>\n",
       "      <td>0.018229</td>\n",
       "      <td>70.840311</td>\n",
       "      <td>0.018179</td>\n",
       "      <td>183.043856</td>\n",
       "      <td>272.804617</td>\n",
       "      <td>2019.232698</td>\n",
       "      <td>4.302821</td>\n",
       "      <td>181.687327</td>\n",
       "      <td>3.604800</td>\n",
       "      <td>6.375135</td>\n",
       "      <td>118.440143</td>\n",
       "      <td>406.533891</td>\n",
       "      <td>184.802741</td>\n",
       "    </tr>\n",
       "    <tr>\n",
       "      <th>std</th>\n",
       "      <td>75091.609542</td>\n",
       "      <td>0.139702</td>\n",
       "      <td>0.239269</td>\n",
       "      <td>87.648910</td>\n",
       "      <td>0.166460</td>\n",
       "      <td>30.360915</td>\n",
       "      <td>0.166966</td>\n",
       "      <td>54.513385</td>\n",
       "      <td>0.166823</td>\n",
       "      <td>33.154265</td>\n",
       "      <td>49.356669</td>\n",
       "      <td>1.718298</td>\n",
       "      <td>2.324646</td>\n",
       "      <td>125.793155</td>\n",
       "      <td>3.021975</td>\n",
       "      <td>4.947636</td>\n",
       "      <td>666.909006</td>\n",
       "      <td>1008.045708</td>\n",
       "      <td>109.093043</td>\n",
       "    </tr>\n",
       "    <tr>\n",
       "      <th>min</th>\n",
       "      <td>246956.000000</td>\n",
       "      <td>0.000000</td>\n",
       "      <td>0.000000</td>\n",
       "      <td>18.809000</td>\n",
       "      <td>0.000000</td>\n",
       "      <td>25.517000</td>\n",
       "      <td>0.000000</td>\n",
       "      <td>18.052000</td>\n",
       "      <td>0.000000</td>\n",
       "      <td>3.100000</td>\n",
       "      <td>19.400000</td>\n",
       "      <td>2017.000000</td>\n",
       "      <td>1.000000</td>\n",
       "      <td>85.603000</td>\n",
       "      <td>0.000000</td>\n",
       "      <td>1.000000</td>\n",
       "      <td>0.000000</td>\n",
       "      <td>0.000000</td>\n",
       "      <td>86.116200</td>\n",
       "    </tr>\n",
       "    <tr>\n",
       "      <th>25%</th>\n",
       "      <td>306503.000000</td>\n",
       "      <td>0.000000</td>\n",
       "      <td>0.000000</td>\n",
       "      <td>33.874000</td>\n",
       "      <td>0.000000</td>\n",
       "      <td>42.940000</td>\n",
       "      <td>0.000000</td>\n",
       "      <td>36.366000</td>\n",
       "      <td>0.000000</td>\n",
       "      <td>163.200000</td>\n",
       "      <td>255.900000</td>\n",
       "      <td>2018.000000</td>\n",
       "      <td>2.000000</td>\n",
       "      <td>117.600000</td>\n",
       "      <td>1.000000</td>\n",
       "      <td>3.000000</td>\n",
       "      <td>2.372000</td>\n",
       "      <td>15.698000</td>\n",
       "      <td>119.731200</td>\n",
       "    </tr>\n",
       "    <tr>\n",
       "      <th>50%</th>\n",
       "      <td>368214.000000</td>\n",
       "      <td>0.000000</td>\n",
       "      <td>0.000000</td>\n",
       "      <td>36.560000</td>\n",
       "      <td>0.000000</td>\n",
       "      <td>63.015000</td>\n",
       "      <td>0.000000</td>\n",
       "      <td>48.153000</td>\n",
       "      <td>0.000000</td>\n",
       "      <td>180.900000</td>\n",
       "      <td>282.900000</td>\n",
       "      <td>2019.000000</td>\n",
       "      <td>4.000000</td>\n",
       "      <td>145.266000</td>\n",
       "      <td>2.000000</td>\n",
       "      <td>5.000000</td>\n",
       "      <td>16.912000</td>\n",
       "      <td>90.497000</td>\n",
       "      <td>153.333800</td>\n",
       "    </tr>\n",
       "    <tr>\n",
       "      <th>75%</th>\n",
       "      <td>433960.000000</td>\n",
       "      <td>0.000000</td>\n",
       "      <td>0.000000</td>\n",
       "      <td>38.531000</td>\n",
       "      <td>0.000000</td>\n",
       "      <td>85.493000</td>\n",
       "      <td>0.000000</td>\n",
       "      <td>105.573000</td>\n",
       "      <td>0.000000</td>\n",
       "      <td>208.300000</td>\n",
       "      <td>298.800000</td>\n",
       "      <td>2021.000000</td>\n",
       "      <td>6.000000</td>\n",
       "      <td>232.876000</td>\n",
       "      <td>5.000000</td>\n",
       "      <td>9.000000</td>\n",
       "      <td>71.033000</td>\n",
       "      <td>364.172000</td>\n",
       "      <td>236.383600</td>\n",
       "    </tr>\n",
       "    <tr>\n",
       "      <th>max</th>\n",
       "      <td>503679.000000</td>\n",
       "      <td>3.000000</td>\n",
       "      <td>1.000000</td>\n",
       "      <td>7255.675000</td>\n",
       "      <td>3.000000</td>\n",
       "      <td>3646.889000</td>\n",
       "      <td>3.000000</td>\n",
       "      <td>3157.259000</td>\n",
       "      <td>3.000000</td>\n",
       "      <td>248.600000</td>\n",
       "      <td>350.100000</td>\n",
       "      <td>2022.000000</td>\n",
       "      <td>9.000000</td>\n",
       "      <td>9906.273000</td>\n",
       "      <td>19.000000</td>\n",
       "      <td>27.000000</td>\n",
       "      <td>22046.060000</td>\n",
       "      <td>24705.360000</td>\n",
       "      <td>9906.273000</td>\n",
       "    </tr>\n",
       "  </tbody>\n",
       "</table>\n",
       "</div>"
      ],
      "text/plain": [
       "          Unnamed: 0  lap_improvement  crossing_finish_line_in_pit  \\\n",
       "count  223221.000000    223221.000000                223221.000000   \n",
       "mean   372076.886745         0.009582                     0.060966   \n",
       "std     75091.609542         0.139702                     0.239269   \n",
       "min    246956.000000         0.000000                     0.000000   \n",
       "25%    306503.000000         0.000000                     0.000000   \n",
       "50%    368214.000000         0.000000                     0.000000   \n",
       "75%    433960.000000         0.000000                     0.000000   \n",
       "max    503679.000000         3.000000                     1.000000   \n",
       "\n",
       "                  s1  s1_improvement             s2  s2_improvement  \\\n",
       "count  223221.000000   223221.000000  223221.000000   223221.000000   \n",
       "mean       44.044375        0.018184      66.645666        0.018229   \n",
       "std        87.648910        0.166460      30.360915        0.166966   \n",
       "min        18.809000        0.000000      25.517000        0.000000   \n",
       "25%        33.874000        0.000000      42.940000        0.000000   \n",
       "50%        36.560000        0.000000      63.015000        0.000000   \n",
       "75%        38.531000        0.000000      85.493000        0.000000   \n",
       "max      7255.675000        3.000000    3646.889000        3.000000   \n",
       "\n",
       "                  s3  s3_improvement    lap_avg_kph    lap_max_kph  \\\n",
       "count  223221.000000   223221.000000  223221.000000  223221.000000   \n",
       "mean       70.840311        0.018179     183.043856     272.804617   \n",
       "std        54.513385        0.166823      33.154265      49.356669   \n",
       "min        18.052000        0.000000       3.100000      19.400000   \n",
       "25%        36.366000        0.000000     163.200000     255.900000   \n",
       "50%        48.153000        0.000000     180.900000     282.900000   \n",
       "75%       105.573000        0.000000     208.300000     298.800000   \n",
       "max      3157.259000        3.000000     248.600000     350.100000   \n",
       "\n",
       "                year          round     lap_time_s  driver_stint_no  \\\n",
       "count  223221.000000  223221.000000  223221.000000    223221.000000   \n",
       "mean     2019.232698       4.302821     181.687327         3.604800   \n",
       "std         1.718298       2.324646     125.793155         3.021975   \n",
       "min      2017.000000       1.000000      85.603000         0.000000   \n",
       "25%      2018.000000       2.000000     117.600000         1.000000   \n",
       "50%      2019.000000       4.000000     145.266000         2.000000   \n",
       "75%      2021.000000       6.000000     232.876000         5.000000   \n",
       "max      2022.000000       9.000000    9906.273000        19.000000   \n",
       "\n",
       "       class_position  class_interval      class_gap  rolling_5l_avg  \n",
       "count   223221.000000   223221.000000  223221.000000   223221.000000  \n",
       "mean         6.375135      118.440143     406.533891      184.802741  \n",
       "std          4.947636      666.909006    1008.045708      109.093043  \n",
       "min          1.000000        0.000000       0.000000       86.116200  \n",
       "25%          3.000000        2.372000      15.698000      119.731200  \n",
       "50%          5.000000       16.912000      90.497000      153.333800  \n",
       "75%          9.000000       71.033000     364.172000      236.383600  \n",
       "max         27.000000    22046.060000   24705.360000     9906.273000  "
      ]
     },
     "execution_count": 14,
     "metadata": {},
     "output_type": "execute_result"
    }
   ],
   "source": [
    "data.describe()"
   ]
  },
  {
   "cell_type": "code",
   "execution_count": 15,
   "id": "6b3e699e",
   "metadata": {},
   "outputs": [
    {
     "name": "stdout",
     "output_type": "stream",
     "text": [
      "<class 'pandas.core.frame.DataFrame'>\n",
      "RangeIndex: 223221 entries, 0 to 223220\n",
      "Data columns (total 22 columns):\n",
      " #   Column                       Non-Null Count   Dtype  \n",
      "---  ------                       --------------   -----  \n",
      " 0   Unnamed: 0                   223221 non-null  int64  \n",
      " 1   lap_improvement              223221 non-null  int64  \n",
      " 2   crossing_finish_line_in_pit  223221 non-null  int64  \n",
      " 3   s1                           223221 non-null  float64\n",
      " 4   s1_improvement               223221 non-null  int64  \n",
      " 5   s2                           223221 non-null  float64\n",
      " 6   s2_improvement               223221 non-null  int64  \n",
      " 7   s3                           223221 non-null  float64\n",
      " 8   s3_improvement               223221 non-null  int64  \n",
      " 9   lap_avg_kph                  223221 non-null  float64\n",
      " 10  lap_max_kph                  223221 non-null  float64\n",
      " 11  class                        223221 non-null  object \n",
      " 12  year                         223221 non-null  int64  \n",
      " 13  circuit                      223221 non-null  object \n",
      " 14  round                        223221 non-null  int64  \n",
      " 15  lap_time_s                   223221 non-null  float64\n",
      " 16  driver_stint_no              223221 non-null  int64  \n",
      " 17  class_position               223221 non-null  float64\n",
      " 18  class_interval               223221 non-null  float64\n",
      " 19  class_gap                    223221 non-null  float64\n",
      " 20  rating                       223221 non-null  object \n",
      " 21  rolling_5l_avg               223221 non-null  float64\n",
      "dtypes: float64(10), int64(9), object(3)\n",
      "memory usage: 37.5+ MB\n"
     ]
    }
   ],
   "source": [
    "data.info()"
   ]
  },
  {
   "cell_type": "code",
   "execution_count": 16,
   "id": "ada26c2e",
   "metadata": {},
   "outputs": [
    {
     "data": {
      "text/plain": [
       "P    101398\n",
       "G     47668\n",
       "S     43882\n",
       "B     30273\n",
       "Name: rating, dtype: int64"
      ]
     },
     "execution_count": 16,
     "metadata": {},
     "output_type": "execute_result"
    }
   ],
   "source": [
    "data['rating'].value_counts()"
   ]
  },
  {
   "cell_type": "code",
   "execution_count": 17,
   "id": "e6f44f24",
   "metadata": {},
   "outputs": [
    {
     "data": {
      "text/plain": [
       "array(['silverstone', 'spa', 'le mans', 'nurburgring', 'mexico', 'cota',\n",
       "       'fuji', 'shanghai', 'bahrain', 'sebring', 'portimao', 'monza'],\n",
       "      dtype=object)"
      ]
     },
     "execution_count": 17,
     "metadata": {},
     "output_type": "execute_result"
    }
   ],
   "source": [
    "data['circuit'].unique()"
   ]
  },
  {
   "cell_type": "code",
   "execution_count": 18,
   "id": "de059207",
   "metadata": {},
   "outputs": [
    {
     "data": {
      "text/plain": [
       "array(['LMGTE Am', 'LMGTE Pro', 'LMP1', 'LMP2', 'HYPERCAR'], dtype=object)"
      ]
     },
     "execution_count": 18,
     "metadata": {},
     "output_type": "execute_result"
    }
   ],
   "source": [
    "data['class'].unique()"
   ]
  },
  {
   "cell_type": "code",
   "execution_count": null,
   "id": "6dba44e5",
   "metadata": {},
   "outputs": [],
   "source": []
  },
  {
   "cell_type": "code",
   "execution_count": 19,
   "id": "aa9ebf87",
   "metadata": {},
   "outputs": [],
   "source": [
    "# obs = data.select_dtypes(object).drop('rating', axis=1)\n",
    "\n",
    "# class_one_hot = pd.get_dummies(obs['class'], prefix='class')\n",
    "\n",
    "# circuit_one_hot = pd.get_dummies(obs['circuit'], prefix='circuit')\n",
    "\n",
    "# ob_feats = pd.concat([class_one_hot, circuit_one_hot], axis=1)\n",
    "\n",
    "# ob_feats"
   ]
  },
  {
   "cell_type": "code",
   "execution_count": null,
   "id": "c104ef39",
   "metadata": {},
   "outputs": [],
   "source": []
  },
  {
   "cell_type": "code",
   "execution_count": null,
   "id": "036781e0",
   "metadata": {},
   "outputs": [],
   "source": []
  },
  {
   "cell_type": "code",
   "execution_count": 20,
   "id": "d9b7e992",
   "metadata": {},
   "outputs": [],
   "source": [
    "# cont_nums = data.select_dtypes('number')\n",
    "# cont_nums = cont_nums.drop(['lap_improvement', 'crossing_finish_line_in_pit', 's1_improvement', 's2_improvement', 's3_improvement', 'year', 'round', 'driver_stint_no', 'class_position'], axis=1)"
   ]
  },
  {
   "cell_type": "code",
   "execution_count": 21,
   "id": "32f8400a",
   "metadata": {},
   "outputs": [],
   "source": [
    "# disc_nums = data[['lap_improvement', 'crossing_finish_line_in_pit', 's1_improvement', 's2_improvement', 's3_improvement', 'year', 'round', 'driver_stint_no', 'class_position']]\n",
    "# disc_nums"
   ]
  },
  {
   "cell_type": "code",
   "execution_count": null,
   "id": "5daa743e",
   "metadata": {},
   "outputs": [],
   "source": []
  },
  {
   "cell_type": "code",
   "execution_count": 22,
   "id": "70e162b9",
   "metadata": {},
   "outputs": [],
   "source": [
    "def separate_df(df):\n",
    "    cont_nums = df.select_dtypes('number')\n",
    "    cont_nums = cont_nums.drop(['lap_improvement', 'crossing_finish_line_in_pit', 's1_improvement', 's2_improvement', 's3_improvement', 'year', 'round', 'driver_stint_no', 'class_position'], axis=1)\n",
    "    \n",
    "    disc_nums = df[['lap_improvement', 'crossing_finish_line_in_pit', 's1_improvement', 's2_improvement', 's3_improvement', 'year', 'round', 'driver_stint_no', 'class_position']]\n",
    "    \n",
    "    obs = data.select_dtypes(object).drop('rating', axis=1)\n",
    "\n",
    "    \n",
    "    \n",
    "    \n",
    "    target = df['rating']\n",
    "    \n",
    "    return cont_nums, disc_nums, obs, target"
   ]
  },
  {
   "cell_type": "code",
   "execution_count": 23,
   "id": "e290239f",
   "metadata": {},
   "outputs": [],
   "source": [
    "def encode_obs(obs):\n",
    "    class_one_hot = pd.get_dummies(obs['class'], prefix='class')\n",
    "    circuit_one_hot = pd.get_dummies(obs['circuit'], prefix='circuit')\n",
    "    \n",
    "    ob_feats = pd.concat([class_one_hot, circuit_one_hot], axis=1)\n",
    "    \n",
    "    return ob_feats\n"
   ]
  },
  {
   "cell_type": "code",
   "execution_count": null,
   "id": "484083e7",
   "metadata": {},
   "outputs": [],
   "source": []
  },
  {
   "cell_type": "code",
   "execution_count": 24,
   "id": "d68e12d5",
   "metadata": {},
   "outputs": [],
   "source": [
    "cont_nums, disc_nums, obs, target = separate_df(data)"
   ]
  },
  {
   "cell_type": "code",
   "execution_count": 25,
   "id": "15fe81c1",
   "metadata": {},
   "outputs": [
    {
     "data": {
      "text/html": [
       "<div>\n",
       "<style scoped>\n",
       "    .dataframe tbody tr th:only-of-type {\n",
       "        vertical-align: middle;\n",
       "    }\n",
       "\n",
       "    .dataframe tbody tr th {\n",
       "        vertical-align: top;\n",
       "    }\n",
       "\n",
       "    .dataframe thead th {\n",
       "        text-align: right;\n",
       "    }\n",
       "</style>\n",
       "<table border=\"1\" class=\"dataframe\">\n",
       "  <thead>\n",
       "    <tr style=\"text-align: right;\">\n",
       "      <th></th>\n",
       "      <th>class</th>\n",
       "      <th>circuit</th>\n",
       "    </tr>\n",
       "  </thead>\n",
       "  <tbody>\n",
       "    <tr>\n",
       "      <th>0</th>\n",
       "      <td>LMGTE Am</td>\n",
       "      <td>silverstone</td>\n",
       "    </tr>\n",
       "    <tr>\n",
       "      <th>1</th>\n",
       "      <td>LMGTE Am</td>\n",
       "      <td>silverstone</td>\n",
       "    </tr>\n",
       "    <tr>\n",
       "      <th>2</th>\n",
       "      <td>LMGTE Am</td>\n",
       "      <td>silverstone</td>\n",
       "    </tr>\n",
       "    <tr>\n",
       "      <th>3</th>\n",
       "      <td>LMGTE Am</td>\n",
       "      <td>silverstone</td>\n",
       "    </tr>\n",
       "    <tr>\n",
       "      <th>4</th>\n",
       "      <td>LMGTE Am</td>\n",
       "      <td>silverstone</td>\n",
       "    </tr>\n",
       "    <tr>\n",
       "      <th>...</th>\n",
       "      <td>...</td>\n",
       "      <td>...</td>\n",
       "    </tr>\n",
       "    <tr>\n",
       "      <th>223216</th>\n",
       "      <td>HYPERCAR</td>\n",
       "      <td>le mans</td>\n",
       "    </tr>\n",
       "    <tr>\n",
       "      <th>223217</th>\n",
       "      <td>HYPERCAR</td>\n",
       "      <td>le mans</td>\n",
       "    </tr>\n",
       "    <tr>\n",
       "      <th>223218</th>\n",
       "      <td>HYPERCAR</td>\n",
       "      <td>le mans</td>\n",
       "    </tr>\n",
       "    <tr>\n",
       "      <th>223219</th>\n",
       "      <td>HYPERCAR</td>\n",
       "      <td>le mans</td>\n",
       "    </tr>\n",
       "    <tr>\n",
       "      <th>223220</th>\n",
       "      <td>HYPERCAR</td>\n",
       "      <td>le mans</td>\n",
       "    </tr>\n",
       "  </tbody>\n",
       "</table>\n",
       "<p>223221 rows × 2 columns</p>\n",
       "</div>"
      ],
      "text/plain": [
       "           class      circuit\n",
       "0       LMGTE Am  silverstone\n",
       "1       LMGTE Am  silverstone\n",
       "2       LMGTE Am  silverstone\n",
       "3       LMGTE Am  silverstone\n",
       "4       LMGTE Am  silverstone\n",
       "...          ...          ...\n",
       "223216  HYPERCAR      le mans\n",
       "223217  HYPERCAR      le mans\n",
       "223218  HYPERCAR      le mans\n",
       "223219  HYPERCAR      le mans\n",
       "223220  HYPERCAR      le mans\n",
       "\n",
       "[223221 rows x 2 columns]"
      ]
     },
     "execution_count": 25,
     "metadata": {},
     "output_type": "execute_result"
    }
   ],
   "source": [
    "obs"
   ]
  },
  {
   "cell_type": "code",
   "execution_count": 26,
   "id": "fc2b16a7",
   "metadata": {},
   "outputs": [],
   "source": [
    "ob_feats = encode_obs(obs)"
   ]
  },
  {
   "cell_type": "code",
   "execution_count": 27,
   "id": "f73bf5c6",
   "metadata": {},
   "outputs": [
    {
     "data": {
      "text/html": [
       "<div>\n",
       "<style scoped>\n",
       "    .dataframe tbody tr th:only-of-type {\n",
       "        vertical-align: middle;\n",
       "    }\n",
       "\n",
       "    .dataframe tbody tr th {\n",
       "        vertical-align: top;\n",
       "    }\n",
       "\n",
       "    .dataframe thead th {\n",
       "        text-align: right;\n",
       "    }\n",
       "</style>\n",
       "<table border=\"1\" class=\"dataframe\">\n",
       "  <thead>\n",
       "    <tr style=\"text-align: right;\">\n",
       "      <th></th>\n",
       "      <th>class_HYPERCAR</th>\n",
       "      <th>class_LMGTE Am</th>\n",
       "      <th>class_LMGTE Pro</th>\n",
       "      <th>class_LMP1</th>\n",
       "      <th>class_LMP2</th>\n",
       "      <th>circuit_bahrain</th>\n",
       "      <th>circuit_cota</th>\n",
       "      <th>circuit_fuji</th>\n",
       "      <th>circuit_le mans</th>\n",
       "      <th>circuit_mexico</th>\n",
       "      <th>circuit_monza</th>\n",
       "      <th>circuit_nurburgring</th>\n",
       "      <th>circuit_portimao</th>\n",
       "      <th>circuit_sebring</th>\n",
       "      <th>circuit_shanghai</th>\n",
       "      <th>circuit_silverstone</th>\n",
       "      <th>circuit_spa</th>\n",
       "    </tr>\n",
       "  </thead>\n",
       "  <tbody>\n",
       "    <tr>\n",
       "      <th>0</th>\n",
       "      <td>0</td>\n",
       "      <td>1</td>\n",
       "      <td>0</td>\n",
       "      <td>0</td>\n",
       "      <td>0</td>\n",
       "      <td>0</td>\n",
       "      <td>0</td>\n",
       "      <td>0</td>\n",
       "      <td>0</td>\n",
       "      <td>0</td>\n",
       "      <td>0</td>\n",
       "      <td>0</td>\n",
       "      <td>0</td>\n",
       "      <td>0</td>\n",
       "      <td>0</td>\n",
       "      <td>1</td>\n",
       "      <td>0</td>\n",
       "    </tr>\n",
       "    <tr>\n",
       "      <th>1</th>\n",
       "      <td>0</td>\n",
       "      <td>1</td>\n",
       "      <td>0</td>\n",
       "      <td>0</td>\n",
       "      <td>0</td>\n",
       "      <td>0</td>\n",
       "      <td>0</td>\n",
       "      <td>0</td>\n",
       "      <td>0</td>\n",
       "      <td>0</td>\n",
       "      <td>0</td>\n",
       "      <td>0</td>\n",
       "      <td>0</td>\n",
       "      <td>0</td>\n",
       "      <td>0</td>\n",
       "      <td>1</td>\n",
       "      <td>0</td>\n",
       "    </tr>\n",
       "    <tr>\n",
       "      <th>2</th>\n",
       "      <td>0</td>\n",
       "      <td>1</td>\n",
       "      <td>0</td>\n",
       "      <td>0</td>\n",
       "      <td>0</td>\n",
       "      <td>0</td>\n",
       "      <td>0</td>\n",
       "      <td>0</td>\n",
       "      <td>0</td>\n",
       "      <td>0</td>\n",
       "      <td>0</td>\n",
       "      <td>0</td>\n",
       "      <td>0</td>\n",
       "      <td>0</td>\n",
       "      <td>0</td>\n",
       "      <td>1</td>\n",
       "      <td>0</td>\n",
       "    </tr>\n",
       "    <tr>\n",
       "      <th>3</th>\n",
       "      <td>0</td>\n",
       "      <td>1</td>\n",
       "      <td>0</td>\n",
       "      <td>0</td>\n",
       "      <td>0</td>\n",
       "      <td>0</td>\n",
       "      <td>0</td>\n",
       "      <td>0</td>\n",
       "      <td>0</td>\n",
       "      <td>0</td>\n",
       "      <td>0</td>\n",
       "      <td>0</td>\n",
       "      <td>0</td>\n",
       "      <td>0</td>\n",
       "      <td>0</td>\n",
       "      <td>1</td>\n",
       "      <td>0</td>\n",
       "    </tr>\n",
       "    <tr>\n",
       "      <th>4</th>\n",
       "      <td>0</td>\n",
       "      <td>1</td>\n",
       "      <td>0</td>\n",
       "      <td>0</td>\n",
       "      <td>0</td>\n",
       "      <td>0</td>\n",
       "      <td>0</td>\n",
       "      <td>0</td>\n",
       "      <td>0</td>\n",
       "      <td>0</td>\n",
       "      <td>0</td>\n",
       "      <td>0</td>\n",
       "      <td>0</td>\n",
       "      <td>0</td>\n",
       "      <td>0</td>\n",
       "      <td>1</td>\n",
       "      <td>0</td>\n",
       "    </tr>\n",
       "  </tbody>\n",
       "</table>\n",
       "</div>"
      ],
      "text/plain": [
       "   class_HYPERCAR  class_LMGTE Am  class_LMGTE Pro  class_LMP1  class_LMP2  \\\n",
       "0               0               1                0           0           0   \n",
       "1               0               1                0           0           0   \n",
       "2               0               1                0           0           0   \n",
       "3               0               1                0           0           0   \n",
       "4               0               1                0           0           0   \n",
       "\n",
       "   circuit_bahrain  circuit_cota  circuit_fuji  circuit_le mans  \\\n",
       "0                0             0             0                0   \n",
       "1                0             0             0                0   \n",
       "2                0             0             0                0   \n",
       "3                0             0             0                0   \n",
       "4                0             0             0                0   \n",
       "\n",
       "   circuit_mexico  circuit_monza  circuit_nurburgring  circuit_portimao  \\\n",
       "0               0              0                    0                 0   \n",
       "1               0              0                    0                 0   \n",
       "2               0              0                    0                 0   \n",
       "3               0              0                    0                 0   \n",
       "4               0              0                    0                 0   \n",
       "\n",
       "   circuit_sebring  circuit_shanghai  circuit_silverstone  circuit_spa  \n",
       "0                0                 0                    1            0  \n",
       "1                0                 0                    1            0  \n",
       "2                0                 0                    1            0  \n",
       "3                0                 0                    1            0  \n",
       "4                0                 0                    1            0  "
      ]
     },
     "execution_count": 27,
     "metadata": {},
     "output_type": "execute_result"
    }
   ],
   "source": [
    "ob_feats.head()"
   ]
  },
  {
   "cell_type": "code",
   "execution_count": null,
   "id": "804b0e10",
   "metadata": {},
   "outputs": [],
   "source": []
  },
  {
   "cell_type": "code",
   "execution_count": 28,
   "id": "23736442",
   "metadata": {},
   "outputs": [],
   "source": [
    "# s_scaler = StandardScaler()\n",
    "# num_s_scal = s_scaler.fit_transform(nums)\n",
    "# num_s_scal = pd.DataFrame(num_s_scal)\n",
    "# num_s_scal"
   ]
  },
  {
   "cell_type": "code",
   "execution_count": 29,
   "id": "a8cc648e",
   "metadata": {},
   "outputs": [],
   "source": [
    "# mm_scaler = MinMaxScaler()\n",
    "# num_mm_scal = mm_scaler.fit_transform(nums)\n",
    "# num_mm_scal = pd.DataFrame(num_mm_scal)\n",
    "# num_mm_scal"
   ]
  },
  {
   "cell_type": "code",
   "execution_count": 30,
   "id": "469a0309",
   "metadata": {},
   "outputs": [],
   "source": [
    "# abs_scaler = MaxAbsScaler()\n",
    "# num_abs_scal = abs_scaler.fit_transform(nums)\n",
    "# num_abs_scal = pd.DataFrame(num_abs_scal)\n",
    "# num_abs_scal"
   ]
  },
  {
   "cell_type": "code",
   "execution_count": 66,
   "id": "ab30a3c9",
   "metadata": {},
   "outputs": [],
   "source": [
    "def make_scaled_sets(df):\n",
    "    from sklearn.preprocessing import StandardScaler, MinMaxScaler, MaxAbsScaler\n",
    "    \n",
    "    scales = []\n",
    "    \n",
    "    s_scaler = StandardScaler()\n",
    "    num_s_scal = s_scaler.fit_transform(df)\n",
    "    num_s_scal = pd.DataFrame(num_s_scal)\n",
    "    num_s_scal.columns = num_s_scal.columns.astype(str)\n",
    "    num_s_scal.name = 'StandardScaler'\n",
    "    scales.append(num_s_scal)\n",
    "    \n",
    "    mm_scaler = MinMaxScaler()\n",
    "    num_mm_scal = mm_scaler.fit_transform(df)\n",
    "    num_mm_scal = pd.DataFrame(num_mm_scal)\n",
    "    num_mm_scal.columns = num_mm_scal.columns.astype(str)\n",
    "    num_mm_scal.name = 'MinMaxScaler'\n",
    "    scales.append(num_mm_scal)\n",
    "    \n",
    "    abs_scaler = MaxAbsScaler()\n",
    "    num_abs_scal = abs_scaler.fit_transform(df)\n",
    "    num_abs_scal = pd.DataFrame(num_abs_scal)\n",
    "    num_abs_scal.columns = num_abs_scal.columns.astype(str)\n",
    "    num_abs_scal.name = 'MaxAbsScaler'\n",
    "    scales.append(num_abs_scal)\n",
    "    \n",
    "    \n",
    "    return scales\n",
    "\n",
    "\n"
   ]
  },
  {
   "cell_type": "code",
   "execution_count": 67,
   "id": "1ecdf23b",
   "metadata": {},
   "outputs": [],
   "source": [
    "scales = make_scaled_sets(cont_nums)\n"
   ]
  },
  {
   "cell_type": "code",
   "execution_count": 33,
   "id": "9f991f6a",
   "metadata": {},
   "outputs": [],
   "source": [
    "# num_s_scal.head()"
   ]
  },
  {
   "cell_type": "code",
   "execution_count": 34,
   "id": "9570c30c",
   "metadata": {},
   "outputs": [],
   "source": [
    "# num_mm_scal.head()"
   ]
  },
  {
   "cell_type": "code",
   "execution_count": 35,
   "id": "b4595dfb",
   "metadata": {},
   "outputs": [],
   "source": [
    "# num_abs_scal.head()"
   ]
  },
  {
   "cell_type": "code",
   "execution_count": 62,
   "id": "d1a95eb6",
   "metadata": {},
   "outputs": [],
   "source": [
    "features = pd.concat([scales[0], disc_nums, ob_feats], axis=1)\n",
    "\n"
   ]
  },
  {
   "cell_type": "code",
   "execution_count": 72,
   "id": "a2f38995",
   "metadata": {},
   "outputs": [],
   "source": [
    "# features"
   ]
  },
  {
   "cell_type": "code",
   "execution_count": 73,
   "id": "8c140092",
   "metadata": {},
   "outputs": [],
   "source": [
    "X_train, X_test, y_train, y_test = train_test_split(features, target, random_state = 55)\n",
    "# Making a split for testing purposes. "
   ]
  },
  {
   "cell_type": "code",
   "execution_count": null,
   "id": "08cd0f38",
   "metadata": {},
   "outputs": [],
   "source": []
  },
  {
   "cell_type": "code",
   "execution_count": 74,
   "id": "f1b3b3c5",
   "metadata": {},
   "outputs": [
    {
     "name": "stderr",
     "output_type": "stream",
     "text": [
      "/usr/local/lib/python3.8/dist-packages/sklearn/base.py:443: UserWarning: X has feature names, but RandomForestClassifier was fitted without feature names\n",
      "  warnings.warn(\n"
     ]
    },
    {
     "name": "stdout",
     "output_type": "stream",
     "text": [
      "Accuracy: 0.48788660717485577\n"
     ]
    }
   ],
   "source": [
    "rfc = RandomForestClassifier(max_depth=2, random_state=0)\n",
    "rfc.fit(X_train,y_train)\n",
    "y_pred = rf.predict(X_test)\n",
    "accuracy = accuracy_score(y_test, y_pred)\n",
    "print(\"Accuracy:\", accuracy)\n",
    "\n",
    "# Training/fitting an initial run of the RandomForest Classifiier\n",
    "#  Accuracy: 0.48788660717485577\n",
    "#Initial model run resulted in poor accuracy. Hyperparameter tuning can be used to improve the accuracy result."
   ]
  },
  {
   "cell_type": "code",
   "execution_count": null,
   "id": "df9425af",
   "metadata": {},
   "outputs": [],
   "source": []
  },
  {
   "cell_type": "code",
   "execution_count": null,
   "id": "b71c81f0",
   "metadata": {},
   "outputs": [],
   "source": [
    "# Using the GridSearchCV function will allow us to test multiple iterations of the model each with a different set of parameters. The function compares the accuracy score of each iteration\n",
    "# and will finally report the best score and the parameter settings used to acheive this. \n",
    "\n",
    "# # define the parameter grid\n",
    "# param_grid = {\n",
    "#     'n_estimators': [100, 200, 300],\n",
    "#     'max_depth': [5, 10, 15],\n",
    "#     'min_samples_split': [2, 5, 10],\n",
    "#     'min_samples_leaf': [1, 2, 4],\n",
    "#     'max_features': ['sqrt', 'log2'] }\n",
    "\n",
    "# rfc = RandomForestClassifier()\n",
    "# grid_search = GridSearchCV(rfc, param_grid=param_grid, cv=5)\n",
    "# grid_search.fit(X_train, y_train)\n",
    "\n",
    "# # print the best parameters and score\n",
    "# print(\"Best parameters: \", grid_search.best_params_)\n",
    "# print(\"Best score: \", grid_search.best_score_)\n",
    "\n",
    "\n",
    "\n",
    "# Best parameters:  {'max_depth': 15, 'max_features': 'sqrt', 'min_samples_leaf': 1, 'min_samples_split': 2, 'n_estimators': 200}\n",
    "# Best score:  0.785742018337664\n",
    "\n",
    "# ***After running the grid search function through the model hyperparameters we have acheived a best score of ~78% accuracy. The output best parameters wil be used for this model from here on out. \n"
   ]
  },
  {
   "cell_type": "code",
   "execution_count": null,
   "id": "86272beb",
   "metadata": {},
   "outputs": [],
   "source": [
    "def hyper_tuning_rfc():\n",
    "    param_grid_rfc = {'n_estimators': [100, 200, 300], 'max_depth': [5, 10, 15], 'min_samples_split': [2, 5, 10], 'min_samples_leaf': [1, 2, 4], 'max_features': ['sqrt', 'log2'] }\n",
    "    rfc = RandomForestClassifier()\n",
    "    grid_search = GridSearchCV(rfc, param_grid=param_grid_rfc, cv=5)\n",
    "    grid_search.fit(X_train, y_train)\n",
    "    rfc_best_params = grid_search.best_params_\n",
    "    \n",
    "    \n",
    "    #print the best parameters and score\n",
    "    print(\"Best parameters: \", grid_search.best_params_)\n",
    "    print(\"Best score: \", grid_search.best_score_)\n",
    "\n",
    "    return rfc_best_params\n",
    "\n",
    "# Running multiple loops of the model to find the optimal set of model parameters to maximize model accuracy"
   ]
  },
  {
   "cell_type": "code",
   "execution_count": null,
   "id": "67094a15",
   "metadata": {},
   "outputs": [],
   "source": [
    "rfc_best_params = hyper_tuning_rfc(X_train, y_train)"
   ]
  },
  {
   "cell_type": "code",
   "execution_count": null,
   "id": "e9cc88c2",
   "metadata": {},
   "outputs": [],
   "source": []
  },
  {
   "cell_type": "code",
   "execution_count": 75,
   "id": "b27df639",
   "metadata": {},
   "outputs": [
    {
     "name": "stdout",
     "output_type": "stream",
     "text": [
      "Accuracy: 0.7998781493029423\n"
     ]
    }
   ],
   "source": [
    "\n",
    "knn = KNeighborsClassifier()\n",
    "knn.fit(X_train, y_train)\n",
    "\n",
    "y_pred = knn.predict(X_test)\n",
    "\n",
    "accuracy = accuracy_score(y_test, y_pred)\n",
    "print(\"Accuracy:\", accuracy)\n",
    "\n",
    "# An initial run of the KNN Classifier on the same training data as the RandomForest model reports much higher accuracy\n",
    "# Accuracy: 0.7998781493029423\n",
    "# Hyper-paramter tuning will be run for this model as well in an attempt to maximize our models accuracy."
   ]
  },
  {
   "cell_type": "code",
   "execution_count": 79,
   "id": "c25f038d",
   "metadata": {},
   "outputs": [],
   "source": [
    "def hyper_tuning_knn(X_train, y_train):\n",
    "    param_grid_knn = {'n_neighbors': (1,10, 1), 'leaf_size': (20,40,1), 'p': (1,2), 'weights': ('uniform', 'distance'), 'metric': ('minkowski', 'chebyshev')}\n",
    "    knn = KNeighborsClassifier()\n",
    "    grid_search = GridSearchCV(knn, param_grid=param_grid_knn, cv=5)\n",
    "    grid_search.fit(X_train, y_train)\n",
    "    knn_best_params = grid_search.best_params_\n",
    "    \n",
    "    \n",
    "    #print the best parameters and score\n",
    "    print(\"Best parameters: \", grid_search.best_params_)\n",
    "    print(\"Best score: \", grid_search.best_score_)\n",
    "\n",
    "    return knn_best_params\n",
    "\n",
    "# Running multiple loops of the model to find the optimal set of model parameters to maximize model accuracy\n",
    "\n",
    "Best parameters:  {'leaf_size': 20, 'metric': 'minkowski', 'n_neighbors': 1, 'p': 1, 'weights': 'uniform'}\n",
    "Best score:  0.8498700833258669\n",
    "\n",
    "# ***After running the grid search function through the model hyperparameters we have acheived a best score of ~84% accuracy. The output best parameters wil be used for this model from here on out. \n"
   ]
  },
  {
   "cell_type": "code",
   "execution_count": 80,
   "id": "b4300907",
   "metadata": {},
   "outputs": [
    {
     "name": "stdout",
     "output_type": "stream",
     "text": [
      "Best parameters:  {'metric': 'manhattan', 'n_neighbors': 3, 'weights': 'distance'}\n",
      "Best score:  0.8489800794432997\n"
     ]
    }
   ],
   "source": [
    "knn_best_params = hyper_tuning_knn(X_train, y_train)"
   ]
  },
  {
   "cell_type": "code",
   "execution_count": 95,
   "id": "95ff2a36",
   "metadata": {},
   "outputs": [
    {
     "name": "stdout",
     "output_type": "stream",
     "text": [
      "metric=manhattan, n_neighbors=3, weights=distance\n"
     ]
    }
   ],
   "source": [
    "\n",
    "get_params = lambda: ('manhattan', 3, 'distance')\n",
    "\n",
    "# Call the function to get the parameters\n",
    "x_params = get_params()\n",
    "\n",
    "# Call another function with x_params as a tuple of parameters\n",
    "def my_function(metric, n_neighbors, weights):\n",
    "    # Do something with the parameters\n",
    "    print(f\"metric={metric}, n_neighbors={n_neighbors}, weights={weights}\")\n",
    "\n",
    "params = my_function(*x_params)\n",
    "# Output: metric=manhattan, n_neighbors=3, weights=distance\n"
   ]
  },
  {
   "cell_type": "code",
   "execution_count": 88,
   "id": "70d84d9a",
   "metadata": {},
   "outputs": [
    {
     "name": "stdout",
     "output_type": "stream",
     "text": [
      "metric=manhattan, n_neighbors=3, weights=distance\n"
     ]
    }
   ],
   "source": [
    "\n"
   ]
  },
  {
   "cell_type": "code",
   "execution_count": null,
   "id": "8eec0360",
   "metadata": {},
   "outputs": [],
   "source": []
  },
  {
   "cell_type": "code",
   "execution_count": 68,
   "id": "69391e6b",
   "metadata": {},
   "outputs": [],
   "source": [
    "def test_scales_rfc(scales):\n",
    "    for i in range(len(scales)):\n",
    "        name = scales[i].name\n",
    "        features = pd.concat([scales[i], disc_nums, ob_feats], axis=1)\n",
    "        X_train, X_test, y_train, y_test = train_test_split(features, target, random_state = 55)\n",
    "        rf = RandomForestClassifier(max_depth=15, max_features='sqrt', min_samples_leaf=1, min_samples_split=2, n_estimators=200)\n",
    "        rf.fit(X_train,y_train)\n",
    "        y_pred = rf.predict(X_test)\n",
    "        accuracy = accuracy_score(y_test, y_pred)\n",
    "        print(name, \"Accuracy:\", accuracy)\n",
    "        \n",
    "        \n",
    "        \n",
    "###This function will train an iteration of the rfc model (with the best_params determined by the GridSearch) for each of our scaler options (StandardScaler, MinMaxScaler, and MaxABSscaler)\n",
    "# And print an accuracy score for each iteration of the model. Allowing us to find best possible accuracy from our scaling options.\n",
    "\n",
    "# StandardScaler Accuracy: 0.7893058094111745\n",
    "# MinMaxScaler Accuracy: 0.7892699709708634\n",
    "# MaxAbsScaler Accuracy: 0.7897000322545963"
   ]
  },
  {
   "cell_type": "code",
   "execution_count": 69,
   "id": "4597ae1c",
   "metadata": {},
   "outputs": [
    {
     "name": "stdout",
     "output_type": "stream",
     "text": [
      "StandardScaler Accuracy: 0.7893058094111745\n",
      "MinMaxScaler Accuracy: 0.7892699709708634\n",
      "MaxAbsScaler Accuracy: 0.7897000322545963\n"
     ]
    }
   ],
   "source": [
    "test_scales_rfc(scales)"
   ]
  },
  {
   "cell_type": "code",
   "execution_count": null,
   "id": "c2ee12bf",
   "metadata": {},
   "outputs": [],
   "source": []
  },
  {
   "cell_type": "code",
   "execution_count": 100,
   "id": "a72e1cbb",
   "metadata": {},
   "outputs": [],
   "source": [
    "def test_scales_knn(scales):\n",
    "    for i in range(len(scales)):\n",
    "        name = scales[i].name\n",
    "        features = pd.concat([scales[i], disc_nums, ob_feats], axis=1)\n",
    "        X_train, X_test, y_train, y_test = train_test_split(features, target, random_state = 55)\n",
    "        knn = KNeighborsClassifier(leaf_size=20, metric='minkowski', n_neighbors= 1, p= 1, weights='uniform')\n",
    "        knn.fit(X_train,y_train)\n",
    "        y_pred = knn.predict(X_test)\n",
    "        accuracy = accuracy_score(y_test, y_pred)\n",
    "        print(name, \"Accuracy:\", accuracy)\n",
    "        \n",
    "        \n",
    "        \n",
    "###This function will train an iteration of the knn model (with the best_params determined by the GridSearch) for each of our scaler options (StandardScaler, MinMaxScaler, and MaxABSscaler)\n",
    "# And print an accuracy score for each iteration of the model. Allowing us to find best possible accuracy from our scaling options.\n",
    "  \n",
    "\n",
    "  \n",
    "# StandardScaler Accuracy: 0.8585994337526431\n",
    "# MinMaxScaler Accuracy: 0.863455542414794\n",
    "# MaxAbsScaler Accuracy: 0.8513959072501165  "
   ]
  },
  {
   "cell_type": "code",
   "execution_count": 101,
   "id": "7048f5dd",
   "metadata": {},
   "outputs": [
    {
     "name": "stdout",
     "output_type": "stream",
     "text": [
      "StandardScaler Accuracy: 0.8585994337526431\n",
      "MinMaxScaler Accuracy: 0.863455542414794\n",
      "MaxAbsScaler Accuracy: 0.8513959072501165\n"
     ]
    }
   ],
   "source": [
    "test_scales_knn(scales)"
   ]
  },
  {
   "cell_type": "code",
   "execution_count": null,
   "id": "fc65398f",
   "metadata": {},
   "outputs": [],
   "source": []
  },
  {
   "cell_type": "code",
   "execution_count": null,
   "id": "27977fe4",
   "metadata": {},
   "outputs": [],
   "source": [
    "*******CHECK FOR OUTLIERS IN LAPTIME DUMMY*****"
   ]
  }
 ],
 "metadata": {
  "kernelspec": {
   "display_name": "Python 3 (ipykernel)",
   "language": "python",
   "name": "python3"
  },
  "language_info": {
   "codemirror_mode": {
    "name": "ipython",
    "version": 3
   },
   "file_extension": ".py",
   "mimetype": "text/x-python",
   "name": "python",
   "nbconvert_exporter": "python",
   "pygments_lexer": "ipython3",
   "version": "3.8.10"
  }
 },
 "nbformat": 4,
 "nbformat_minor": 5
}
